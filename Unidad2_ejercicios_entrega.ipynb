{
  "cells": [
    {
      "cell_type": "markdown",
      "metadata": {
        "id": "WDdiLKvf7M6N"
      },
      "source": [
        "Introducción a Python\n",
        "============================\n",
        "\n",
        "Unidad 2\n",
        "-----------------------------------------------------\n"
      ]
    },
    {
      "cell_type": "markdown",
      "source": [
        "### Ejercicio 1\n",
        "\n",
        "Define las siguientes variables:\n",
        "\n",
        "a) Una variable numérica `a` con valor 2. **(0.25 puntos)**\n",
        "\n",
        "b) Una cadena de caracteres con el siguiente texto: Me encanta la programación en Python. **(0.25 puntos)**\n",
        "\n",
        "c) Una lista con los meses del año (de Enero a Diciembre). **(0.25 puntos)**\n",
        "\n",
        "d) Un diccionario de 4 elementos que relaciona el nombre de una serie (e.g. Juego de Tronos) con su número de temporadas (e.g. 7). **(0.25 puntos)**\n",
        "\n",
        "**(1 punto)**"
      ],
      "metadata": {
        "id": "scZ1mxV178nQ"
      }
    },
    {
      "cell_type": "code",
      "source": [
        "# a:\n",
        "a = 2\n",
        "print(a)\n",
        "\n",
        "# b:\n",
        "text_chain = \"Me encanta la programación en Python\"\n",
        "print(text_chain)\n",
        "\n",
        "# c:\n",
        "#DATA TYPE -> LIST (MUTABLE, DYNAMIC, & CAN BE NESTED)\n",
        "months_list = [\"January\", \"February\",\n",
        "               \"March\", \"April\", \"May\",\n",
        "               \"June\", \"July\", \"August\",\n",
        "               \"September\", \"October\",\n",
        "               \"November\", \"December\"]\n",
        "print(months_list)\n",
        "\n",
        "# d:\n",
        "#DATA TYPE -> DICTIONARY (MUTABLE, DYNAMIC, & CAN BE NESTED)\n",
        "#KEYS: Game of Thrones, Friends, New Girl, & Gilmore Girls\n",
        "#VALUES: 7, 10, 7, & 7\n",
        "series_dictionary = {\"Game of Thrones\": 7, \"Friends\": 10, \"New Girl\":  7,  \"Gilmore Girls\": 7 }\n",
        "print(series_dictionary)\n"
      ],
      "metadata": {
        "id": "QF7a5ge3rc4U",
        "colab": {
          "base_uri": "https://localhost:8080/"
        },
        "outputId": "65282d03-19bf-4186-9a19-bedbd6203bb7"
      },
      "execution_count": null,
      "outputs": [
        {
          "output_type": "stream",
          "name": "stdout",
          "text": [
            "2\n",
            "Me encanta la programación en Python\n",
            "['January', 'February', 'March', 'April', 'May', 'June', 'July', 'August', 'September', 'October', 'November', 'December']\n",
            "{'Game of Thrones': 7, 'Friends': 10, 'New Girl': 7, 'Gilmore Girls': 7}\n"
          ]
        }
      ]
    },
    {
      "cell_type": "markdown",
      "metadata": {
        "id": "BY2Fmwu77M6O"
      },
      "source": [
        "### Ejercicio 2\n",
        "\n",
        "Muestra el resultado de las operaciones y responde las preguntas:\n",
        "\n",
        "Apartado a)\n",
        "\n",
        "a = 7/3\n",
        "\n",
        "b = 7//3\n",
        "\n",
        "\n",
        "Apartado b)\n",
        "\n",
        "c = 2 * 5\n",
        "\n",
        "d = c\n",
        "\n",
        "c = 14 * 2\n",
        "\n",
        "Apartado c)\n",
        "\n",
        "\n",
        "e = [1, 2, 3]\n",
        "\n",
        "f = e\n",
        "\n",
        "e[0] = 10\n",
        "\n",
        "a) ¿Cuál es el valor de a y b? ¿Por qué tienen valores diferentes? **(0.25 puntos)**\n",
        "\n",
        "b) ¿Cuál es el valor de c y d? ¿Por qué? **(0.25 puntos)**\n",
        "\n",
        "c) ¿Cuál es el valor de e y f? ¿Por qué? **(0.5 puntos)**\n",
        "\n",
        "**(1 punto)**"
      ]
    },
    {
      "cell_type": "code",
      "source": [
        "# Apartado a)\n",
        "# DIVIVISION -> Divides left-to-right\n",
        "  # dividend = int 7\n",
        "  # divisor = int 3\n",
        "a = 7/3\n",
        "\n",
        "# FLOOR DIVISION/ DIVISION ENTERA -> Divides left-to-right\n",
        "  # dividend = int 7\n",
        "  # divisor = int 3\n",
        "b = 7//3\n",
        "\n",
        "print(\"The value of a is: \",a)\n",
        "print(\"The value of b is: \",b)"
      ],
      "metadata": {
        "id": "Hu0vZtk1resr",
        "colab": {
          "base_uri": "https://localhost:8080/"
        },
        "outputId": "88367cc3-9a3a-4f30-c439-101268c9defe"
      },
      "execution_count": null,
      "outputs": [
        {
          "output_type": "stream",
          "name": "stdout",
          "text": [
            "The value of a is:  2.3333333333333335\n",
            "The value of b is:  2\n"
          ]
        }
      ]
    },
    {
      "cell_type": "markdown",
      "source": [
        "The result of the variable **\"a\"** is a `float` because it's using the arithmetic operator of division (/). For example,  if we divide:\n",
        "\n",
        "```\n",
        "a = 10/2\n",
        "print(a)\n",
        "# >>> 5.0\n",
        "```\n",
        "So, we will always get a float.\n",
        "\n",
        "While the result of the variable **\"b\"** is an `integer` because it is using the arithmetic operator of floor division (//). `Floor division` divides and returns the bigger number that is either equal to or less than the outcome.\n",
        "\n",
        "⭐️ Noted that both exercises have an integer for the dividend and divisor. If varible **\"b\"** had a float for the dividend the result would be a float. For example:\n",
        "```\n",
        "a = 7.9//3\n",
        "print(a)\n",
        "# >>> 2.0\n",
        "```\n",
        "Same thing if the divisor was a float e.g.:\n",
        "```\n",
        "a = 7//3.9\n",
        "print(a)\n",
        "# >>> 1.0\n",
        "```"
      ],
      "metadata": {
        "id": "hfHLnPrFLHme"
      }
    },
    {
      "cell_type": "code",
      "source": [
        "#Apartado b)\n",
        "# Multiplies left-to-right\n",
        "c = 2 * 5\n",
        "\n",
        "# THE VARIABLE D IS DECLARING C\n",
        "d = c\n",
        "\n",
        "c = 14 * 2\n",
        "\n",
        "print(\"The value of c is: \", c)\n",
        "print(\"The value of d is: \", d)"
      ],
      "metadata": {
        "colab": {
          "base_uri": "https://localhost:8080/"
        },
        "id": "i_XfxebPGcNY",
        "outputId": "9794d733-e2e2-4ca6-f4d4-68c89b0db07d"
      },
      "execution_count": null,
      "outputs": [
        {
          "output_type": "stream",
          "name": "stdout",
          "text": [
            "The value of c is:  28\n",
            "The value of d is:  10\n"
          ]
        }
      ]
    },
    {
      "cell_type": "markdown",
      "source": [
        "The value of **\"c\"** is bigger than **\"d\"** because **\"d\"** declared  **\"c\"** before it was updated."
      ],
      "metadata": {
        "id": "vXh_TH12LXWN"
      }
    },
    {
      "cell_type": "code",
      "source": [
        "# Apartado c)\n",
        "e = [1, 2, 3]\n",
        "\n",
        "# THE VARIABLE F IS DECLARING E\n",
        "f = e\n",
        "\n",
        "e[0] = 10\n",
        "\n",
        "print(e)\n",
        "print(f)"
      ],
      "metadata": {
        "colab": {
          "base_uri": "https://localhost:8080/"
        },
        "id": "46_KNp6jGekj",
        "outputId": "4892c72e-f59a-4b9f-87e3-580f0cd088df"
      },
      "execution_count": null,
      "outputs": [
        {
          "output_type": "stream",
          "name": "stdout",
          "text": [
            "[10, 2, 3]\n",
            "[10, 2, 3]\n"
          ]
        }
      ]
    },
    {
      "cell_type": "markdown",
      "source": [
        "The value of **\"e\"** is equal to **\"f\"** because **\"f\"** is declaring **\"e\"**.  The value of **\"e\"** was updated from 1 (index of 0) to 10."
      ],
      "metadata": {
        "id": "Q7HfFZDZLsCx"
      }
    },
    {
      "cell_type": "markdown",
      "metadata": {
        "id": "I_X_3wn67M6T"
      },
      "source": [
        "### Ejercicio 3\n",
        "\n",
        "Escribe un programa que seleccione el nombre, el apellido y el año de nacimiento de la persona a la que hace referencia el texto. Muéstralos por pantalla. **(1 punto)**"
      ]
    },
    {
      "cell_type": "code",
      "execution_count": null,
      "metadata": {
        "colab": {
          "base_uri": "https://localhost:8080/"
        },
        "id": "N56uBQX87M6T",
        "outputId": "c88904e8-b301-4395-a074-495c98818ecd"
      },
      "outputs": [
        {
          "output_type": "stream",
          "name": "stdout",
          "text": [
            "Rosalia Vila was born in 1992\n"
          ]
        }
      ],
      "source": [
        "frase = \"Rosalia Vila was born in 1992\"\n",
        "print(frase)"
      ]
    },
    {
      "cell_type": "code",
      "source": [
        "# Respuesta\n",
        "frase = \"Rosalia Vila was born in 1992\"\n",
        "# SLICE NOTATION\n",
        "print(\"Nombre: \", frase[0:7])\n",
        "print(\"Apellido: \",frase[8:12])\n",
        "print(\"Año de nacimiento:\", frase[25:29])"
      ],
      "metadata": {
        "id": "gL3Zeoq4rjTD",
        "colab": {
          "base_uri": "https://localhost:8080/"
        },
        "outputId": "b2572faa-5856-4f4f-a352-12dadaf49eaf"
      },
      "execution_count": null,
      "outputs": [
        {
          "output_type": "stream",
          "name": "stdout",
          "text": [
            "Nombre:  Rosalia\n",
            "Apellido:  Vila\n",
            "Año de nacimiento: 1992\n"
          ]
        }
      ]
    },
    {
      "cell_type": "markdown",
      "metadata": {
        "id": "8PatiXGZ7M6U"
      },
      "source": [
        "### Ejercicio 4\n",
        "\n",
        "En el departamento de filología quieren automatizar la comprobación de ciertas tareas para optimizar su tiempo. Nos han encargado un código que les ayude con la detección de palíndromos (palabras que se leen igual de izquierda a derecha que de derecha a izquierda, también llamadas capicúa).\n",
        "\n",
        "a) Para comprobar que nuestro código funciona correctamente, nos piden demostrar que la palabra `sobreverbos` es un palíndromo. **(0.5 puntos)**\n",
        "\n",
        "b) A continuación nos piden que hagamos un código donde el usuario pueda introducir una palabra y el programa muestre por pantalla si la palabra es o no es un palídromo. **(0.75 puntos)**\n",
        "\n",
        "Pon el código del apartado b) en forma de función, con la palabra a detectar (e.g. sobreverbos) como parámetro de entrada (input) de la función. **(0.25 puntos)**\n",
        "\n",
        "**(1.5 puntos)**"
      ]
    },
    {
      "cell_type": "code",
      "source": [
        "# a:\n",
        "# FUNCTION\n",
        "def palindrome(word):\n",
        "  # SLICE NOTATION\n",
        "  return word == word[::-1]\n",
        "\n",
        "print(\"Sobreverbos is ->\", palindrome(\"sobreverbos\"))"
      ],
      "metadata": {
        "id": "p2IjraqIrmAR",
        "colab": {
          "base_uri": "https://localhost:8080/"
        },
        "outputId": "8baec2bf-fb51-46f9-fc78-2d1c1b829749"
      },
      "execution_count": 33,
      "outputs": [
        {
          "output_type": "stream",
          "name": "stdout",
          "text": [
            "Sobreverbos is -> True\n"
          ]
        }
      ]
    },
    {
      "cell_type": "code",
      "source": [
        "# b:\n",
        "# FUNCTION\n",
        "def palindrome(word):\n",
        "  # SLICE NOTATION\n",
        "  return word == word[::-1]\n",
        "\n",
        "user_word = input(\"Please enter a word: \")\n",
        "if palindrome(user_word):\n",
        "  # F STRING\n",
        "  print(f\"The word {user_word} is a palindrome\")\n",
        "else:\n",
        "  print(f\"The word {user_word} is not a palindrome\")"
      ],
      "metadata": {
        "id": "ccntEc8apB_-",
        "colab": {
          "base_uri": "https://localhost:8080/"
        },
        "outputId": "cafbfdf4-1d55-4651-8c79-33e0c21f2a11"
      },
      "execution_count": null,
      "outputs": [
        {
          "output_type": "stream",
          "name": "stdout",
          "text": [
            "Please enter a word: dog\n",
            "The word dog is not a palindrome\n"
          ]
        }
      ]
    },
    {
      "cell_type": "markdown",
      "metadata": {
        "id": "bDpfLPvT7M6U"
      },
      "source": [
        "### Ejercicio 5\n",
        "\n",
        "\n",
        "La ecuación cuadrática es una ecuación polinómica de segundo grado que tiene la forma general:\n",
        "\n",
        "`ax^2+bx+c=0`\n",
        "\n",
        "Donde:\n",
        "\n",
        "`a`, `b`, y `c` son coeficientes constantes, y `x` es la incognita o la variable que queremos encontrar.\n",
        "\n",
        "Para resolver una ecuación cuadrática, usamos la fórmula cuadrática (ver celda siguiente), donde:\n",
        "\n",
        "\n",
        "- `a`, `b`, y `c` son los coeficientes de la ecuación cuadrática (ax^2 + bx + c = 0).\n",
        "- El discriminante es `Delta = b^2 - 4ac.`\n",
        "  - Si Delta > 0, hay dos soluciones reales.\n",
        "  - Si Delta = 0, hay una solución real doble.\n",
        "  - Si Delta < 0, las soluciones son complejas.\n",
        "\n",
        "\n",
        "\n",
        "Escribe la fórmula cuadrática para resolver la equación de segundo grado, considerando diferentes valores de a, b y c. Muestra un caso con 2 soluciones reales, un caso con una solución real doble y un caso con soluciones complejas.\n",
        "\n",
        "En caso de que el resultado sea un número complejo, como accedemos a la parte imaginaria y la parte real?\n",
        "\n",
        "**(1 punto)**"
      ]
    },
    {
      "cell_type": "code",
      "source": [
        "# Cargamos la librería display para mostrar fórmulas matemáticas\n",
        "from IPython.display import display, Math\n",
        "\n",
        "# Mostramos la fórmula cuadrática\n",
        "display(Math(r'x = \\frac{-b \\pm \\sqrt{b^2 - 4ac}}{2a}'))"
      ],
      "metadata": {
        "colab": {
          "base_uri": "https://localhost:8080/",
          "height": 56
        },
        "id": "brN9UaUzsqXY",
        "outputId": "0f0c0e93-5f6b-4443-b0c2-63486b41809f"
      },
      "execution_count": null,
      "outputs": [
        {
          "output_type": "display_data",
          "data": {
            "text/plain": [
              "<IPython.core.display.Math object>"
            ],
            "text/latex": "$\\displaystyle x = \\frac{-b \\pm \\sqrt{b^2 - 4ac}}{2a}$"
          },
          "metadata": {}
        }
      ]
    },
    {
      "cell_type": "code",
      "source": [
        "# Distinct real root\n",
        "# QUADRATIC FORMULA: (ax^2 + bx + c = 0)\n",
        "\n",
        "# COMPLEX MATH MODULE\n",
        "import cmath\n",
        "\n",
        "a = 2\n",
        "b = 9\n",
        "c = 3\n",
        "\n",
        "# DISCRIMANT (WHAT'S UNDER THE SQUARE ROOT) -> Delta = b^2 - 4ac\n",
        "delta = (b**2) - (4*a*c)\n",
        "\n",
        "#IF, ELIF, & ELSE CONDITIONS\n",
        "if delta > 0:\n",
        "    # Two real solutions\n",
        "    solution_1 = (-b - cmath.sqrt(delta)) / (2*a)\n",
        "    solution_2 = (-b + cmath.sqrt(delta)) / (2*a)\n",
        "    print(\"Two distinct real roots:\", solution_1, solution_2)\n",
        "elif delta == 0:\n",
        "    # One double real solution\n",
        "    solution = -b / (2*a)\n",
        "    print(\"One real root:\", solution)\n",
        "else:\n",
        "    # Two complex solutions\n",
        "    solution_1 = (-b - cmath.sqrt(delta)) / (2*a)\n",
        "    solution_2 = (-b + cmath.sqrt(delta)) / (2*a)\n",
        "    print(\"Two complex roots:\", solution_1, solution_2)"
      ],
      "metadata": {
        "colab": {
          "base_uri": "https://localhost:8080/"
        },
        "id": "bCD5qdY6lJRF",
        "outputId": "e2055329-c1ee-439c-c2a2-721fd51d71ca"
      },
      "execution_count": 30,
      "outputs": [
        {
          "output_type": "stream",
          "name": "stdout",
          "text": [
            "Two distinct real roots: (-4.1374586088176875+0j) (-0.36254139118231254+0j)\n"
          ]
        }
      ]
    },
    {
      "cell_type": "code",
      "source": [
        "# Two complex roots\n",
        "# QUADRATIC FORMULA: (ax^2 + bx + c = 0)\n",
        "\n",
        "# COMPLEX MATH MODULE\n",
        "import cmath\n",
        "\n",
        "a = 1\n",
        "b = 1\n",
        "c = 1\n",
        "\n",
        "# DISCRIMANT (WHAT'S UNDER THE SQUARE ROOT) -> Delta = b^2 - 4ac\n",
        "delta = (b**2) - (4*a*c)\n",
        "\n",
        "#IF, ELIF, & ELSE CONDITIONS\n",
        "if delta > 0:\n",
        "    # Two real solutions\n",
        "    solution_1 = (-b - cmath.sqrt(delta)) / (2*a)\n",
        "    solution_2 = (-b + cmath.sqrt(delta)) / (2*a)\n",
        "    print(\"Two distinct real roots:\", solution_1, solution_2)\n",
        "elif delta == 0:\n",
        "    # One double real solution\n",
        "    solution = -b / (2*a)\n",
        "    print(\"One real root:\", solution)\n",
        "else:\n",
        "    # Two complex solutions\n",
        "    solution_1 = (-b - cmath.sqrt(delta)) / (2*a)\n",
        "    solution_2 = (-b + cmath.sqrt(delta)) / (2*a)\n",
        "    print(\"Two complex roots:\", solution_1, solution_2)"
      ],
      "metadata": {
        "colab": {
          "base_uri": "https://localhost:8080/"
        },
        "id": "Stta68_do4ir",
        "outputId": "1ea2a34b-5b13-4c59-eb7c-7b3d4353797e"
      },
      "execution_count": 31,
      "outputs": [
        {
          "output_type": "stream",
          "name": "stdout",
          "text": [
            "Two complex roots: (-0.5-0.8660254037844386j) (-0.5+0.8660254037844386j)\n"
          ]
        }
      ]
    },
    {
      "cell_type": "code",
      "source": [
        "# Two complex roots\n",
        "# QUADRATIC FORMULA: (ax^2 + bx + c = 0)\n",
        "\n",
        "# COMPLEX MATH MODULE\n",
        "import cmath\n",
        "\n",
        "a = 1\n",
        "b = 0\n",
        "c = 0\n",
        "\n",
        "# DISCRIMANT (WHAT'S UNDER THE SQUARE ROOT) -> Delta = b^2 - 4ac\n",
        "delta = (b**2) - (4*a*c)\n",
        "\n",
        "#IF, ELIF, & ELSE CONDITIONS\n",
        "if delta > 0:\n",
        "    # Two real solutions\n",
        "    solution_1 = (-b - cmath.sqrt(delta)) / (2*a)\n",
        "    solution_2 = (-b + cmath.sqrt(delta)) / (2*a)\n",
        "    print(\"Two distinct real roots:\", solution_1, solution_2)\n",
        "elif delta == 0:\n",
        "    # One double real solution\n",
        "    solution = -b / (2*a)\n",
        "    print(\"One real root:\", solution)\n",
        "else:\n",
        "    # Two complex solutions\n",
        "    solution_1 = (-b - cmath.sqrt(delta)) / (2*a)\n",
        "    solution_2 = (-b + cmath.sqrt(delta)) / (2*a)\n",
        "    print(\"Two complex roots:\", solution_1, solution_2)"
      ],
      "metadata": {
        "colab": {
          "base_uri": "https://localhost:8080/"
        },
        "id": "wGffj9f_pVlD",
        "outputId": "331998bc-7d11-4a38-e794-98e3d7ede1be"
      },
      "execution_count": 32,
      "outputs": [
        {
          "output_type": "stream",
          "name": "stdout",
          "text": [
            "One real root: 0.0\n"
          ]
        }
      ]
    },
    {
      "cell_type": "markdown",
      "source": [
        "Could we also ask the user to input some numbers like this?\n",
        "```\n",
        "# QUADRATIC FORMULA: (ax^2 + bx + c = 0)\n",
        "\n",
        "# COMPLEX MATH MODULE\n",
        "import cmath\n",
        "\n",
        "# USER INPUT\n",
        "a = float(input(\"Enter the value of a: \"))\n",
        "b = float(input(\"Enter the value of b: \"))\n",
        "c = float(input(\"Enter the value of c: \"))\n",
        "\n",
        "# FUNCTION\n",
        "def quadratic_equation(a, b, c):\n",
        "\n",
        "     # DISCRIMANT (WHAT'S UNDER THE SQUARE ROOT) -> Delta = b^2 - 4ac\n",
        "    delta = b**2 - 4*a*c\n",
        "\n",
        "# IF, ELIF, ELSE CONDITIONS\n",
        "    if delta > 0:\n",
        "        # Two distinct real solutions\n",
        "        solution_1 = (-b + cmath.sqrt(delta)) / (2*a)\n",
        "        solution_2 = (-b - cmath.sqrt(delta)) / (2*a)\n",
        "        print(\"Two distinct real roots:\", solution_1, solution_2)\n",
        "        \n",
        "    elif delta == 0:\n",
        "        # One double real solution\n",
        "        solution = -b / (2*a)\n",
        "        print(\"One real root:\", solution)\n",
        "    else:\n",
        "        # Two complex solutions\n",
        "        solution_1 = (-b + cmath.sqrt(delta)) / (2*a)\n",
        "        solution_2 = (-b + cmath.sqrt(delta)) / (2*a)\n",
        "        print(\"Two complex roots:\", solution_1, solution_2)\n",
        "\n",
        "\n",
        "# WE CHECK IF IT'S A QUADRATIC EQUATION\n",
        "if a == 0:\n",
        "    print(\"Not a quadratic equation\")\n",
        "else:\n",
        "    quadratic_equation(a, b, c)\n",
        "\n",
        "# >>> Enter the value of a: 3\n",
        "# >>> Enter the value of b: 4\n",
        "# >>> Enter the value of c: 7\n",
        "# >>> Two complex roots: (-0.6666666666666666+1.3743685418725535j) (-0.6666666666666666+1.3743685418725535j)  \n",
        "```\n"
      ],
      "metadata": {
        "id": "RLQSy_KpjVbJ"
      }
    },
    {
      "cell_type": "markdown",
      "source": [
        "`Quadratic has 1 solution`:\n",
        "\n",
        "discriminant is 0 -> only one solution to the quadratic.\n",
        "\n",
        "`Quadratic that has 2 solutions`:\n",
        "\n",
        "If the discriminant is positive, there are exactly 2 real solutions (they are distinct, meaning we get two different real numbers as solutions).\n",
        "If the discriminant is zero, there is exactly one real solution (a repeated root: the same real number appears as a solution twice).\n",
        "If the discriminant is negative, there are exactly 2 complex solutions (they are distinct, and they are complex conjugates)."
      ],
      "metadata": {
        "id": "XA6O5EsIq3CO"
      }
    },
    {
      "cell_type": "markdown",
      "metadata": {
        "id": "Z_6YbfG_7M6V"
      },
      "source": [
        "### Ejercicio 6\n",
        "\n",
        "Con los amigos nos hemos apuntado a un club de lectura. Cada mes leemos un libro y lo puntuamos. Para ser más ordenados, vamos a usar Python para recopilar la información. Por ejemplo, `Fuego y Sangre tiene una puntuación de 7.5`.\n",
        "\n",
        "a) Qué tipo de variable podemos utilizar para almacenar esta información? Razona la respuesta. **(0.5 puntos)**\n",
        "\n",
        "b) Usando la variable del apartado a) define un listado de libros con sus respectivas notas asociadas. A continuación, muestra por pantalla el nombre y la nota de tres elementos. (**1 punto)**\n",
        "\n",
        "\n",
        "**(1.5 puntos)**"
      ]
    },
    {
      "cell_type": "markdown",
      "source": [
        "We could use a `dictionary` to store the book club information as it is more efficient and faster than using a list."
      ],
      "metadata": {
        "id": "hPLb8SYr8Mg_"
      }
    },
    {
      "cell_type": "code",
      "source": [
        "# Respuesta\n",
        "# KEY(BOOK TITLE) & VALUE(RATING)\n",
        "book_club =  {\n",
        "    \"Heartstopper: Volume 1-4\" : 6.4,\n",
        "    \"Weyward\" : 4.07,\n",
        "    \"In the Lives of Puppets\" : 3.92\n",
        "}\n",
        "\n",
        "print(book_club)"
      ],
      "metadata": {
        "id": "ARNFPtgcrpZK",
        "colab": {
          "base_uri": "https://localhost:8080/"
        },
        "outputId": "09a79fec-a937-488b-b5d0-17d44f9617e6"
      },
      "execution_count": null,
      "outputs": [
        {
          "output_type": "stream",
          "name": "stdout",
          "text": [
            "{'Heartstopper: Volume 1-4': 6.4, 'Weyward': 4.07, 'In the Lives of Puppets': 3.92}\n"
          ]
        }
      ]
    },
    {
      "cell_type": "markdown",
      "source": [
        "or:\n",
        "```\n",
        "# USE A DICT() FUNCTION THAT HAS LISTS OF TUPLES\n",
        "book_club =  dict([\n",
        "    (\"Heartstopper: Volume 1-4\" , 6.4),\n",
        "    (\"Weyward\",  4.07),\n",
        "    (\"In the Lives of Puppets\", 3.92)]\n",
        ")\n",
        "\n",
        "print(book_club)\n",
        "print(type(book_club))\n",
        "# >>> {'Heartstopper: Volume 1-4': 6.4, 'Weyward': 4.07, 'In the Lives of Puppets': 3.92}\n",
        "# >>> class 'dict'>\n",
        "```\n",
        "\n",
        "e.g 2: Instead of using floats for the ratings, use emojis (strings) to rate.\n",
        "```\n",
        "# USE A DICT() FUNCTION THAT HAS LISTS OF TUPLES\n",
        "book_club =  dict([\n",
        "    (\"Heartstopper: Volume 1-4\" , \"⭐️⭐️⭐️⭐️⭐️⭐️\"),\n",
        "    (\"Weyward\",  \"⭐️⭐️⭐️⭐️\"),\n",
        "    (\"In the Lives of Puppets\", \"⭐️⭐️⭐️\")]   \n",
        ")\n",
        "\n",
        "print(book_club)\n",
        "# >>> {'Heartstopper: Volume 1-4': '⭐️⭐️⭐️⭐️⭐️⭐️', 'Weyward': '⭐️⭐️⭐️⭐️', 'In the Lives of Puppets': '⭐️⭐️⭐️'}\n",
        "```"
      ],
      "metadata": {
        "id": "yL1XIaCgxPxU"
      }
    },
    {
      "cell_type": "markdown",
      "metadata": {
        "id": "zds5zR6a7M6V"
      },
      "source": [
        "### Ejercicio 7\n",
        "\n",
        "Debido a un error de procesamiento, la frase del ejercicio 1 se ha modificado y donde había espacios entre las palabras se ha puesto el símbolo $.\n",
        "\n",
        "`La$paciencia$es$la$madre$de$la$ciencia`\n",
        "\n",
        "Escribe un programa que separe los elementos de la frase, es decir, que en lugar de La$paciencia tengamos dos elementos, 'La' y 'paciencia'.\n",
        "\n",
        "**(1 punto)**"
      ]
    },
    {
      "cell_type": "code",
      "source": [
        "# Respuesta\n",
        "phrase = \"La$paciencia$es$la$madre$de$la$ciencia\"\n",
        "\n",
        "#SPLIT() METHOD\n",
        "# $ MEANS \"ENDS WITH\"\n",
        "two_elements = phrase.split(\"$\")\n",
        "# SLICE NOTATION\n",
        "print(two_elements[0:2])"
      ],
      "metadata": {
        "id": "QcgYUv0urrqN",
        "colab": {
          "base_uri": "https://localhost:8080/"
        },
        "outputId": "1ecb0a69-b8dc-4131-888e-7e3d897fc28f"
      },
      "execution_count": null,
      "outputs": [
        {
          "output_type": "stream",
          "name": "stdout",
          "text": [
            "['La', 'paciencia']\n"
          ]
        }
      ]
    },
    {
      "cell_type": "markdown",
      "source": [
        "OR:\n",
        "\n",
        "```\n",
        "phrase = \"La$paciencia$es$la$madre$de$la$ciencia\"\n",
        "two_elements = phrase.split(\"$\")\n",
        "first_element = two_elements[0]\n",
        "print(first_element)\n",
        "second_element = two_elements[1]\n",
        "print(second_element)\n",
        "# >>> <class 'str'>\n",
        "# >>> La\n",
        "# >> paciencia\n",
        "```\n",
        "\n",
        "\n",
        "We could also use the re module.\n",
        "\n",
        "```\n",
        "# RegEx- USING THE RE MODULE :\n",
        "import re\n",
        "\n",
        "phrase = \"La$paciencia$es$la$madre$de$la$ciencia\"\n",
        "# + means 1 or more occurrences\n",
        "print(re.split(r'\\$+', phrase [0:12]))\n",
        "\n",
        "# >> ['La', 'paciencia']\n",
        "```\n",
        "or:\n",
        "\n",
        "\n",
        "```\n",
        "import re\n",
        "\n",
        "phrase = \"La$paciencia$es$la$madre$de$la$ciencia\"\n",
        "print(re.split(r'\\$', phrase [0:12]))\n",
        "# >> ['La', 'paciencia']\n",
        "```\n",
        "\n",
        "\n"
      ],
      "metadata": {
        "id": "m8WHE8SwH13d"
      }
    },
    {
      "cell_type": "markdown",
      "metadata": {
        "id": "0iMgO2zT7M6W"
      },
      "source": [
        "### Ejercicio 8\n",
        "\n",
        "Dada la siguiente lista:\n",
        "\n",
        "`[15, 3, 45, 87, 1]`\n",
        "\n",
        "Proporciona una expresión que devuelva:"
      ]
    },
    {
      "cell_type": "markdown",
      "metadata": {
        "id": "nQnJlXCZ7M6W"
      },
      "source": [
        "**a)** La lista ordenada. **(0.5 puntos)**\n",
        "\n",
        "**Nota**: Para hacer este apartado, explora la función [sorted](https://docs.python.org/3/howto/sorting.html):"
      ]
    },
    {
      "cell_type": "markdown",
      "metadata": {
        "id": "2JGfZoIU7M6W"
      },
      "source": [
        "**b)** El valor máximo y mínimo de la lista.\n",
        "**(0.5 puntos)**\n",
        "\n",
        "**Nota**: Para hacer este apartado, consulta la siguiente [tabla](https://docs.python.org/3/library/functions.html):"
      ]
    },
    {
      "cell_type": "code",
      "source": [
        "# a:\n",
        "list = [15, 3, 45, 87, 1]\n",
        "\n",
        "#USE SORTED() Function\n",
        "sorted(list)\n",
        "print(\"The sorted list: \", sorted(list))\n"
      ],
      "metadata": {
        "id": "QLeYvywKrxnl",
        "colab": {
          "base_uri": "https://localhost:8080/"
        },
        "outputId": "2283ccd1-5ad3-4fc6-9655-5dab3a82e710"
      },
      "execution_count": null,
      "outputs": [
        {
          "output_type": "stream",
          "name": "stdout",
          "text": [
            "The sorted list:  [1, 3, 15, 45, 87]\n"
          ]
        }
      ]
    },
    {
      "cell_type": "markdown",
      "source": [
        "We could also use the sort() method:\n",
        "```\n",
        "list = [15, 3, 45, 87, 1]\n",
        "list.sort()\n",
        "print(list)\n",
        "# >> [1, 3, 15, 45, 87]\n",
        "```"
      ],
      "metadata": {
        "id": "9G4mB95Ov5d4"
      }
    },
    {
      "cell_type": "code",
      "source": [
        "# b:\n",
        "list = [15, 3, 45, 87, 1]\n",
        "\n",
        "# MAX() FUNCTION\n",
        "print(\"MAX: \", max(list))\n",
        "\n",
        "# MIN() FUNCTION\n",
        "print(\"MIN: \", min(list))"
      ],
      "metadata": {
        "colab": {
          "base_uri": "https://localhost:8080/"
        },
        "id": "9sq2lRt0JGvS",
        "outputId": "1cf8f4c4-b31f-401c-a461-9efaaf571669"
      },
      "execution_count": null,
      "outputs": [
        {
          "output_type": "stream",
          "name": "stdout",
          "text": [
            "MAX:  87\n",
            "MIN:  1\n"
          ]
        }
      ]
    },
    {
      "cell_type": "markdown",
      "source": [
        "### Ejercicio 9\n",
        "\n",
        "Un amigo nos ha contactado para que le ayudemos con un código que no le funciona. Revisad el código, corregid los errores y explicad por qué sucede. **(1 punto)**"
      ],
      "metadata": {
        "id": "IljMUn8l9uWO"
      }
    },
    {
      "cell_type": "code",
      "source": [
        "a = \"Yann@Lecun\"\n",
        "\n",
        "nombre = split(a,$)\n",
        "\n",
        "print(nombre)\n",
        "\n",
        "print(apellido)"
      ],
      "metadata": {
        "id": "-yfoLt7o9zRD",
        "colab": {
          "base_uri": "https://localhost:8080/",
          "height": 211
        },
        "outputId": "13664fe6-b5d8-46de-e4fa-5588639444c4"
      },
      "execution_count": null,
      "outputs": [
        {
          "output_type": "error",
          "ename": "NameError",
          "evalue": "name 'split' is not defined",
          "traceback": [
            "\u001b[0;31m---------------------------------------------------------------------------\u001b[0m",
            "\u001b[0;31mNameError\u001b[0m                                 Traceback (most recent call last)",
            "\u001b[0;32m<ipython-input-11-eef17d45d756>\u001b[0m in \u001b[0;36m<cell line: 3>\u001b[0;34m()\u001b[0m\n\u001b[1;32m      1\u001b[0m \u001b[0ma\u001b[0m \u001b[0;34m=\u001b[0m \u001b[0;34m\"Yann@Lecun\"\u001b[0m\u001b[0;34m\u001b[0m\u001b[0;34m\u001b[0m\u001b[0m\n\u001b[1;32m      2\u001b[0m \u001b[0;34m\u001b[0m\u001b[0m\n\u001b[0;32m----> 3\u001b[0;31m \u001b[0mnombre\u001b[0m \u001b[0;34m=\u001b[0m \u001b[0msplit\u001b[0m\u001b[0;34m(\u001b[0m\u001b[0ma\u001b[0m\u001b[0;34m,\u001b[0m\u001b[0;34m)\u001b[0m\u001b[0;34m\u001b[0m\u001b[0;34m\u001b[0m\u001b[0m\n\u001b[0m\u001b[1;32m      4\u001b[0m \u001b[0;34m\u001b[0m\u001b[0m\n\u001b[1;32m      5\u001b[0m \u001b[0mprint\u001b[0m\u001b[0;34m(\u001b[0m\u001b[0mnombre\u001b[0m\u001b[0;34m)\u001b[0m\u001b[0;34m\u001b[0m\u001b[0;34m\u001b[0m\u001b[0m\n",
            "\u001b[0;31mNameError\u001b[0m: name 'split' is not defined"
          ]
        }
      ]
    },
    {
      "cell_type": "markdown",
      "source": [
        ">The `NameError` error appears cause it thinks we haven't declared \"split\" as a variable. To fix this we need to declare \"a\" as the varible & use the \"split\" method.\n",
        "\n"
      ],
      "metadata": {
        "id": "d2xUCX6X2z3B"
      }
    },
    {
      "cell_type": "code",
      "source": [
        "# Respuesta\n",
        "a = \"Yann@Lecun\"\n",
        "\n",
        "# SPLIT() METHOD\n",
        "nombre_completo  = a.split(\"@\")\n",
        "print(nombre_completo)\n",
        "\n",
        "# index 0 = Yann\n",
        "nombre = nombre_completo [0]\n",
        "print(nombre)\n",
        "\n",
        "# index 1 = Lecun\n",
        "apellido = nombre_completo [1]\n",
        "print(apellido)"
      ],
      "metadata": {
        "id": "So3pwjKLr5L0",
        "colab": {
          "base_uri": "https://localhost:8080/"
        },
        "outputId": "cf4d114c-c071-49a2-d010-3f5771b161d4"
      },
      "execution_count": null,
      "outputs": [
        {
          "output_type": "stream",
          "name": "stdout",
          "text": [
            "['Yann', 'Lecun']\n",
            "Yann\n",
            "Lecun\n"
          ]
        }
      ]
    }
  ],
  "metadata": {
    "kernelspec": {
      "display_name": "Python 3",
      "language": "python",
      "name": "python3"
    },
    "language_info": {
      "codemirror_mode": {
        "name": "ipython",
        "version": 3
      },
      "file_extension": ".py",
      "mimetype": "text/x-python",
      "name": "python",
      "nbconvert_exporter": "python",
      "pygments_lexer": "ipython3",
      "version": "3.7.6"
    },
    "colab": {
      "provenance": []
    }
  },
  "nbformat": 4,
  "nbformat_minor": 0
}