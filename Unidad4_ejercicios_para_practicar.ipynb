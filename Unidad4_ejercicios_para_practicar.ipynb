{
  "nbformat": 4,
  "nbformat_minor": 0,
  "metadata": {
    "colab": {
      "provenance": []
    },
    "kernelspec": {
      "name": "python3",
      "display_name": "Python 3"
    },
    "language_info": {
      "name": "python"
    }
  },
  "cells": [
    {
      "cell_type": "markdown",
      "source": [
        "Python para la visualización de datos\n",
        "============================\n",
        "\n",
        "Unidad 4 - Librería NumPy\n",
        "-----------------------------------------------------"
      ],
      "metadata": {
        "id": "TtBaRsJ8UtSW"
      }
    },
    {
      "cell_type": "markdown",
      "source": [
        "## Ejercicios para practicar"
      ],
      "metadata": {
        "id": "uNN-0HpMU08M"
      }
    },
    {
      "cell_type": "markdown",
      "source": [
        "###Ejercicio 1\n",
        "\n",
        "Considera la matriz siguiente:\n",
        "\n",
        "$$\\begin{bmatrix} 1 & 1 & 2 & 2 & 1 \\\\ 2 & 1 & 3 & 2 & 2 \\\\ 3 & 2 & 3 & 2 & 3\n",
        " \\\\ 1 & 0 & 0 & 2 & 1\\end{bmatrix}$$\n",
        "\n",
        "Cada fila representa una semana y cada elemento de la fila el número de productos que compramos. Es decir, en la semana 1 hemos comprado 7 productos, en la semana 2, 10 productos, etc.\n",
        "\n",
        "Vamos a usar esta matriz con información de compras para practicar las operaciones con arrays.\n",
        "\n",
        "a) Crea esta matriz y guárdala en forma de array 2D.\n",
        "\n",
        "b) ¿En qué semana hemos comprado más productos?\n",
        "\n",
        "c) ¿Cuántos productos se han comprado más de 5 veces en las 4 semanas?\n",
        "\n",
        "d) Ahora vamos a considerar el precio de cada producto, en este caso:\n",
        "\n",
        "producto1 = 1.5, producto2 = 2.5, producto3 = 3, producto4 = 0.5 y producto5 = 0.75\n",
        "\n",
        "¿Cuánto nos hemos gastado cada semana?\n",
        "\n",
        "e) Últimamente hemos estado gastando bastante. Por suerte, nos han dado un cupón de descuento del 10% para compras superiores a 15 euros. Si aplicamos este descuento a nuestros gastos semanales, ¿qué gasto final tendríamos?\n"
      ],
      "metadata": {
        "id": "zXDMRYv6U5Oo"
      }
    },
    {
      "cell_type": "code",
      "source": [
        "# Importamos la librería NumPy\n",
        "import numpy as np\n",
        "\n",
        "# a) Crea esta matriz y guárdala en forma de array 2D.\n",
        "\n",
        "# Vamos a considerar que cada semana compramos 5 productos (🍏, 🥛, 🧀, 🍊, & 🥬)\n",
        "# Cada fila representa el número de elementos que hemos comprado de cada producto en una semana\n",
        "# Por lo tanto, si queremos representar 4 semanas y 5 productos, la matriz será 4x5\n",
        "# con las filas con la información por semana, y las columnas, por producto.\n",
        "\n",
        "info_compras = np.array([[1, 1, 2, 2, 1], [2, 1, 3, 2, 2], [3, 2, 3, 2, 3], [1, 0, 0, 2, 1]])\n",
        "\n",
        "print(\"Matriz compras de 1 mes:\\n\", info_compras)\n",
        "\n",
        "# Es decir, en la 1a semana (1a fila), hemos comprado 1 producto1, 1 producto2,\n",
        "# 2 producto3 y 2 producto4."
      ],
      "metadata": {
        "colab": {
          "base_uri": "https://localhost:8080/"
        },
        "id": "XmS58GFzZiIF",
        "outputId": "0f3eb457-baeb-42d3-abba-f948493a5406"
      },
      "execution_count": null,
      "outputs": [
        {
          "output_type": "stream",
          "name": "stdout",
          "text": [
            "Matriz compras de 1 mes:\n",
            " [[1 1 2 2 1]\n",
            " [2 1 3 2 2]\n",
            " [3 2 3 2 3]\n",
            " [1 0 0 2 1]]\n"
          ]
        }
      ]
    },
    {
      "cell_type": "code",
      "source": [
        "# Qué semana hemos comprado más productos?\n",
        "\n",
        "# Para saber en qué semana hemos comprado más productos, tenemos que sumar los elementos de cada semana, es decir, de cada fila\n",
        "# Para hacerlo, podemos usar la función sum de NumPy\n",
        "# Como queremos sumar todos los elementos de las columnas, especificamos el axis=1\n",
        "compras_semana = np.sum(info_compras, axis=1)\n",
        "\n",
        "# Mostramos el resultado\n",
        "print(\"Productos comprados cada semana:\\n\", compras_semana)\n",
        "\n",
        "# Por lo tanto, en la 1a semana se compraron 7 productos, en la 2a, 10 productos, etc.\n",
        "\n",
        "# Si queremos encontrar en qué semana se compraron más, tenemos que poder identificar la semana\n",
        "# con más productos, es decir, la semana 3 con 10 productos\n",
        "\n",
        "# Para hacerlo, podemos seguir 2 pasos:\n",
        "# 1) Primero calculamos el máximo de productos comprados por semana (en este caso 13)\n",
        "# 2) Encontramos en qué semana se hizo la compra de estos 13 productos (semana 3)\n",
        "\n",
        "# Así pues, primero de todo buscamos el máximo del array que hemos creado\n",
        "# que contiene el total de productos comprados por semana (compras_semana)\n",
        "\n",
        "max_productos = np.max(compras_semana)\n",
        "print(\"El máximo de productos comprados es:\", max_productos)\n",
        "\n",
        "# En el siguiente paso, buscamos en qué semana se compraron estos 13 productos\n",
        "# Para hacerlo podemos usar la función where\n",
        "\n",
        "# Esta función nos va a dar la posición del elemento que cumpla la condición que especificamos\n",
        "# En este caso, del elemento que tenga el valor máximo (13)\n",
        "semana_max_pos = np.where(compras_semana==max_productos)\n",
        "\n",
        "# Sabemos que python siempre empieza por 0, por lo tanto, tendremos que sumar 1 a la posición\n",
        "# Para saber qué semana es (e.g. posición 0 es la semana 1, posición 1 es la semana 2, etc)\n",
        "# Para acceder al valor del resultado del where, tenemos que entrar primero dentro del array (primer [0])\n",
        "# y a continuación seleccionar el 1r elemento [0], por eso, tenemos que poner [0][0]\n",
        "# semana_max_pos[0][0] nos da el valor de la posicióm (e.g. 2) y le sumamos 1 para tener el número de semana\n",
        "semana_max = semana_max_pos[0][0] + 1\n",
        "print(f\"La semana donde se han comprado más productos es la semana {semana_max}\")"
      ],
      "metadata": {
        "colab": {
          "base_uri": "https://localhost:8080/"
        },
        "id": "tarbHWHTZm0_",
        "outputId": "677ba087-2279-4180-a883-930c1aa5c72b"
      },
      "execution_count": null,
      "outputs": [
        {
          "output_type": "stream",
          "name": "stdout",
          "text": [
            "Productos comprados cada semana:\n",
            " [ 7 10 13  4]\n",
            "El máximo de productos comprados es: 13\n",
            "La semana donde se han comprado más productos es la semana 3\n"
          ]
        }
      ]
    },
    {
      "cell_type": "code",
      "source": [
        "# ¿Cuántos productos se han comprado más de 5 veces en las 4 semanas?\n",
        "\n",
        "# Primero de todo, tenemos que calcular el número total comprado por producto\n",
        "# Por lo tanto, para cada producto, se tiene que sumar cuanto se ha comprado en cada semana\n",
        "# Es decir, el producto1 total será la suma del producto1 comprado en las 4 semanas\n",
        "\n",
        "# Así pues, queremos hacer una suma parecida a la anterior, pero en este caso,\n",
        "# queremos obtener el resultado por producto\n",
        "# Para hacerlo, tenemos que sumar los elementos de cada producto en las 4 semanas\n",
        "# por eso indicamos axis=0, ya que sumamos las filas\n",
        "compra_productos = np.sum(info_compras, axis=0)\n",
        "\n",
        "# Mostramos el resultado\n",
        "print(\"Número de elementos comprados por producto:\\n\", compra_productos)\n",
        "\n",
        "# Con este resultado podemos ver que hemos comprado más de 5 veces 4 de los 5 productos\n",
        "# Pero queremos calcular este número con python\n",
        "# En este caso, podemos seleccionar los elementos con valor > 5 del array compra_productos\n",
        "# y a continuación, mirar su tamaño (número de elementos del array)\n",
        "\n",
        "# Nos quedamos con los elemenos que cumplan la condición\n",
        "compra_productos_mayor5 = compra_productos[compra_productos>5]\n",
        "\n",
        "# Mostramos el resultado\n",
        "print(\"Productos con más de 5 elementos comprados:\\n\", compra_productos_mayor5)\n",
        "\n",
        "# Si queremos mirar cuantos son, podemos fijarnos en la 1a dimensión del shape\n",
        "print(\"Información del shape: \", compra_productos_mayor5.shape)\n",
        "# Usamos .shape[0] para acceder al valor\n",
        "print(\"Número de productos con más de 5 elementos comprados:\\n\", compra_productos_mayor5.shape[0])\n",
        "\n",
        "list(np.where(compra_productos>5[0]+1))\n"
      ],
      "metadata": {
        "colab": {
          "base_uri": "https://localhost:8080/"
        },
        "id": "1KvcpHqKc_3_",
        "outputId": "a98df521-7b80-4f48-ab63-281e87a1f68d"
      },
      "execution_count": null,
      "outputs": [
        {
          "output_type": "stream",
          "name": "stdout",
          "text": [
            "Número de elementos comprados por producto:\n",
            " [7 4 8 8 7]\n",
            "Productos con más de 5 elementos comprados:\n",
            " [7 8 8 7]\n",
            "Información del shape:  (4,)\n",
            "Número de productos con más de 5 elementos comprados:\n",
            " 4\n"
          ]
        }
      ]
    },
    {
      "cell_type": "code",
      "source": [
        "# Ahora queremos considerar el precio de cada producto, por lo que vamos a crear un array.\n",
        "# En este caso, el array es 1D, con 4 elementos, representado el precio de cada producto\n",
        "precio = np.array([1.5, 2.5, 3, 0.5, 0.75])\n",
        "\n",
        "print(\"Array precios productos:\\n\", precio)"
      ],
      "metadata": {
        "id": "fEZn9mq0xJZM",
        "colab": {
          "base_uri": "https://localhost:8080/"
        },
        "outputId": "3b881383-e923-490d-f5b4-0a404046eecd"
      },
      "execution_count": null,
      "outputs": [
        {
          "output_type": "stream",
          "name": "stdout",
          "text": [
            "Array precios productos:\n",
            " [1.5  2.5  3.   0.5  0.75]\n"
          ]
        }
      ]
    },
    {
      "cell_type": "code",
      "source": [
        "# ¿Cuánto nos hemos gastado cada semana?\n",
        "\n",
        "# Ahora queremos saber cuanto nos hemos gastado cada semana\n",
        "# Para hacerlo, debemos multiplicar el número de productos que hemos comprado con su respectivo precio\n",
        "# es decir, en la 1a semana, tendríamos que hacer:\n",
        "# gasto_semana1 = producto1*precio1 + producto2*precio2 + producto3*precio3 + producto4*precio4 + producto5*precio5\n",
        "\n",
        "# Esta operación se puede hacer de distintas maneras, manualmente y con el producto de matrices.\n",
        "# En este ejercicio vamos a ver la manera más manual\n",
        "\n",
        "# Opción for - Más manual\n",
        "\n",
        "# Creamos un array donde guardar la información\n",
        "# Como tenemos 4 semanas, debería ser un array 1D de 4 elementos\n",
        "# Aquí podemos hacer un array 4x1 o 1x4\n",
        "# Como la información de la semana estaba en las filas, lo hemos mantenido así, con 4 filas\n",
        "gasto_semanal = np.zeros(shape=(4,1))\n",
        "\n",
        "# A continuación, vamos a recorrer la matriz de compras y de precios para seleccionar cada elemento que queremos multiplicar\n",
        "for i in range(info_compras.shape[0]): # i va iterando por las filas (la semana)\n",
        "  # En cada iteración (vuelta) de i, vamos a estar en una semana distina\n",
        "  # e.g. Cuando i=0, estamos en la semana 1\n",
        "  # Cada semana vamos a calcular el gasto de cada producto y, después, vamos a sumarlos todos para tener el gasto total de la semana\n",
        "  # Para guardar esta información, podemos usar una lista\n",
        "  # Como queremos que se actualice cada semana, la vamos a crear justo antes de empezar el segundo for\n",
        "  # De esta manera, cuando empiece cada semana va a estar vacía para poder guardar los gastos por producto\n",
        "  lista_gastos = []\n",
        "  for j in range(info_compras.shape[1]): # j va iterando por las columnas (el número de productos)\n",
        "    # En una semana concreta, vamos a multiplicar cada producto con su precio\n",
        "    # Con el índice j vamos a seleccionar el producto1 con el precio1, el producto2 con el precio2, etc\n",
        "    # Por lo tanto, con i=0 y j=0, la operación que estamos haciendo es:\n",
        "    # \"En la semana 1 compramos 1 producto1 de precio 1.5, por lo tanto el precio total es 1.5 euros\"\n",
        "    gasto_producto = info_compras[i,j]*precio[j]\n",
        "    # Guardamos el gasto del producto en la lista que hemos creado\n",
        "    lista_gastos.append(gasto_producto)\n",
        "    # Cuando hayamos iterado por todos los productos con el for de j, en esta lista vamos a tener 4 elementos\n",
        "    # que representaran el gasto por producto\n",
        "\n",
        "  # Sin embargo, nosotros no queremos el gasto de cada producto, sino la suma de todos los gastos por semana\n",
        "  # Por lo tanto, una vez acabada la iteración del segundo for, vamos a sumar los elementos de la lista\n",
        "  suma_gasto_semanal = sum(lista_gastos)\n",
        "  # Finalmente, guardamos el gasto semanal en su respectiva semana del array que hemos creado\n",
        "  gasto_semanal[i,0] = suma_gasto_semanal\n",
        "\n",
        "# Mostramos el array con los gastos de cada semana\n",
        "print(\"Gasto semanal:\\n\", gasto_semanal)"
      ],
      "metadata": {
        "colab": {
          "base_uri": "https://localhost:8080/"
        },
        "id": "h3XLUdVwPZ6f",
        "outputId": "413155a6-ba48-48ba-979e-5dc82c1e036e"
      },
      "execution_count": null,
      "outputs": [
        {
          "output_type": "stream",
          "name": "stdout",
          "text": [
            "Gasto semanal:\n",
            " [[11.75]\n",
            " [17.  ]\n",
            " [21.75]\n",
            " [ 3.25]]\n"
          ]
        }
      ]
    },
    {
      "cell_type": "code",
      "source": [
        "# manera mas rapida\n",
        "# multiplicamos las matriz de compras con la matriz de precios con una multiplicacion\n",
        "info_compras.dot(precio)\n",
        "# array([11.75, 17. , 21.75, 3.25])"
      ],
      "metadata": {
        "id": "LJIPHFb3P4ec"
      },
      "execution_count": null,
      "outputs": []
    },
    {
      "cell_type": "code",
      "source": [
        "# Este es el gasto semanal que hemos calculado\n",
        "# Si nos fijamos, el resultado es correcto ya que la 1a semana es:\n",
        "\n",
        "#Calculamos manualmente el precio\n",
        "gasto_S1 = (1*1.5)+(1*2.5)+(2*3)+(2*0.5)+(1*0.75)\n",
        "print(\"Gasto semana1 - manual: \", gasto_S1)\n",
        "\n",
        "# Mostramos el valor del primer elemento del array,\n",
        "# que corresponde al gasto de la 1a semana\n",
        "print(\"Gasto semana1 - array for: \", gasto_semanal[0,0])\n"
      ],
      "metadata": {
        "id": "cbGGUt6SU7Jj",
        "colab": {
          "base_uri": "https://localhost:8080/"
        },
        "outputId": "7eba6f68-c0d7-431a-d3fa-80bc976443c8"
      },
      "execution_count": null,
      "outputs": [
        {
          "output_type": "stream",
          "name": "stdout",
          "text": [
            "Gasto semana1 - manual:  11.75\n",
            "Gasto semana1 - array for:  11.75\n"
          ]
        }
      ]
    },
    {
      "cell_type": "code",
      "source": [
        "# Aplicar un cupón de descuento si el total por semana es mayor a 15 euros\n",
        "\n",
        "# En este caso, si nos fijamos en el gasto de cada semana, vemos que hay 2 semanas que superan los 15 euros:\n",
        "# la semana 2 y la 3\n",
        "# En estas semanas podríamos usar el cupón de 10% de descuento\n",
        "\n",
        "# Un cupón del 10% de descuento significa que vamos a restarle un 10%\n",
        "# Esto se puede representar también como multiplicar el valor por 0.9 (100%-10% = 90%, que se representa como gasto x 0.9)\n",
        "\n",
        "# Así pues, tenemos que aplicar esta multiplicación de 0.9 a la 2 y la 3 semana\n",
        "\n",
        "# Para hacerlo hay también distintas maneras\n",
        "\n",
        "# Manera 1\n",
        "# Primero de todo vamos a encontrar dónde superamos el gasto de 15 euros\n",
        "# Podemos identificarlo con el if\n",
        "\n",
        "# Hacemos una copia del array del gasto semanal para modificarlo\n",
        "gasto_semanal_descuento = gasto_semanal.copy()\n",
        "# Recorremos los elementos del array\n",
        "for i in np.arange(gasto_semanal_descuento.shape[0]):\n",
        "  # Con el índice accedemos a los valores del gasto semanal gasto_semanal_descuento[i]\n",
        "  # Por lo tanto, cuando i = 0, gasto_semanal_descuento[i] representa el gasto de la semana 1 = 11 euros\n",
        "  # Si el gasto es mayor a 15\n",
        "  if gasto_semanal[i] > 15:\n",
        "    # Vamos a aplicar el descuento multiplicando por 0.9\n",
        "    gasto_semanal_descuento[i] *= 0.9\n",
        "    # También podríamos escribir\n",
        "    #gasto_semanal_descuento[i] = gasto_semanal_descuento[i] * 0.9"
      ],
      "metadata": {
        "id": "Fza8ekIaVRQg"
      },
      "execution_count": null,
      "outputs": []
    },
    {
      "cell_type": "code",
      "source": [
        "# Manera 2\n",
        "\n",
        "# Otra manera sería crear un array que nos indica si se cumple o no la condición\n",
        "gasto_mas15 = gasto_semanal > 15\n",
        "\n",
        "# Este array indica con True si se el gasto es mayor a 15, y False, si es igual o menor (no se cumple la condición)\n",
        "print(\"Array con info si se cumple o no la condición:\\n\", gasto_mas15)\n",
        "\n",
        "# También podríamos ponerlo como 1 (True) y 0 (False)\n",
        "gasto_mas15_int = gasto_mas15.astype(np.int32)\n",
        "print(\"Array con info si se cumple o no la condición con 0 y 1:\\n\", gasto_mas15_int)\n",
        "\n",
        "# Este array tiene las mismas dimensiones que el array del gasto semanal, de modo que nos indica si la semana cumple o no la condición\n",
        "\n",
        "# Hacemos otra copia del array del gasto semanal para modificarlo\n",
        "gasto_semanal_descuento2 = gasto_semanal.copy()\n",
        "# Recorremos los elementos del array\n",
        "for i in np.arange(gasto_semanal_descuento2.shape[0]):\n",
        "  # En este caso, tanto podemos usar gasto_semanal_descuento2 como gasto_mas15 para indicar el rango a recorrer por el for,\n",
        "  # que será de 0 a 3 (la dimensión es 4, por tanto irá de 0 a 4-1)\n",
        "\n",
        "  # Vamos a mirar si en nuestro array de booleanos, se cumple la condición\n",
        "  if gasto_mas15[i] == True:\n",
        "  # También podríamos usar el array de 0 y 1s\n",
        "  # En este caso, si gasto_mas15_int[i] = 1 se cumpliría la condición\n",
        "  # if gasto_mas15_int[i]:\n",
        "    # Si se cumple, vamos a aplicar el descuento multiplicando por 0.9\n",
        "    gasto_semanal_descuento2[i] *= 0.9"
      ],
      "metadata": {
        "colab": {
          "base_uri": "https://localhost:8080/"
        },
        "id": "V7Jw251HWbZ5",
        "outputId": "a323bf21-4637-440a-b1dc-435f41ee0f89"
      },
      "execution_count": null,
      "outputs": [
        {
          "output_type": "stream",
          "name": "stdout",
          "text": [
            "Array con info si se cumple o no la condición:\n",
            " [[False]\n",
            " [ True]\n",
            " [ True]\n",
            " [False]]\n",
            "Array con info si se cumple o no la condición con 0 y 1:\n",
            " [[0]\n",
            " [1]\n",
            " [1]\n",
            " [0]]\n"
          ]
        }
      ]
    },
    {
      "cell_type": "code",
      "source": [
        "# Estos dos métodos dan el mismo resultado\n",
        "# Mostramos los resultados por pantalla para comparar\n",
        "# También podemos usar la función round para tener solo 1 decimal\n",
        "print(\"Gasto semanal con descuento - método 1:\\n \", np.round(gasto_semanal_descuento, 1))\n",
        "print(\"Gasto semanal con descuento - método 2:\\n \", np.round(gasto_semanal_descuento2, 1))"
      ],
      "metadata": {
        "colab": {
          "base_uri": "https://localhost:8080/"
        },
        "id": "eY_k6q2DWdh8",
        "outputId": "9e5b73f7-b071-41d1-957b-ece869fe227b"
      },
      "execution_count": null,
      "outputs": [
        {
          "output_type": "stream",
          "name": "stdout",
          "text": [
            "Gasto semanal con descuento - método 1:\n",
            "  [[11.8]\n",
            " [15.3]\n",
            " [19.6]\n",
            " [ 3.2]]\n",
            "Gasto semanal con descuento - método 2:\n",
            "  [[11.8]\n",
            " [15.3]\n",
            " [19.6]\n",
            " [ 3.2]]\n"
          ]
        }
      ]
    },
    {
      "cell_type": "markdown",
      "source": [
        "### Ejercicio2"
      ],
      "metadata": {
        "id": "hMd05VvkR5-8"
      }
    },
    {
      "cell_type": "code",
      "source": [
        "# Creamos una matriz de unos 5x5 de zeros\n",
        "Z = np.zeros((5,5))\n",
        "\n",
        "# Ahora vamos a usar la función tril_indices_from, que nos indica la posición de\n",
        "# los elementos del triangulo inferior de la matriz\n",
        "# Si usamos la opción k= -1, no vamos a incluir los elementos de la matriz\n",
        "\n",
        "# Primero vamos a ver qué nos da la función tril_indices_from\n",
        "idx_triu = np.tril_indices_from(Z, k=-1)\n",
        "print('Posiciones de los elementos triangulo inferior:\\n', idx_triu)\n",
        "\n",
        "# Esta tupla con dos arrays nos da las posiciones de cada elemento del tril (triángulo inferior)\n",
        "# El array1 tiene los índices de las filas y el array2 los índices de las columnas\n",
        "# Si nos fijamos, el primer elemento del tril (si ignoramos la diagonal) está en la posición [1,0], el segundo en la posición [2,0]\n",
        "# Por lo tanto, tenemos que leerlo así, la 1a coordenada sería el primer elemento del array1 con el primer elemento del array2\n",
        "\n",
        "# Si tenemos los índices de las posiciones, podemos usarlos para seleccionar los elementos del tril\n",
        "# Z[np.tril_indices_from(Z, k=-1)]\n",
        "# En este caso, si los seleccionamos, vamos a ver que son todo 0, porqué aún no hemos hecho ninguna modificación a la matriz\n",
        "\n",
        "# Así pues, una vez seleccionados, podemos asignarles un valor, en este caso 1\n",
        "Z[np.tril_indices_from(Z, k=-1)] = 1\n",
        "print('Nueva matriz con triángulo inferior con valor 1:\\n', Z)\n",
        "\n",
        "# A continuación, otra cosa que podemos hacer es girar la matriz, con la función fliplr\n",
        "Z_girada = np.fliplr(Z)\n",
        "print('Matriz Z girada:\\n', Z_girada)\n",
        "\n",
        "# Ahora podemos volver a asignar un valor al triángulo inferior, así tendremos los dos triángulos inferiores de valor 1\n",
        "# Seguimos el mismo precedimiento que hemos hecho anteriormente\n",
        "Z_girada[np.tril_indices_from(Z_girada, k=-1)] = 1\n",
        "print('Matriz con los dos triángulos inferiores de valor 1:\\n', Z_girada)\n",
        "\n",
        "# Finalmente visualizamos el resultado con la función imshow ()\n",
        "import matplotlib.pyplot as plt\n",
        "plt.imshow(Z_girada)"
      ],
      "metadata": {
        "colab": {
          "base_uri": "https://localhost:8080/",
          "height": 795
        },
        "id": "QeGrO5aciKZ1",
        "outputId": "09562509-aa7c-4642-c7f0-7adcf23c2f5d"
      },
      "execution_count": null,
      "outputs": [
        {
          "output_type": "stream",
          "name": "stdout",
          "text": [
            "Posiciones de los elementos triangulo inferior:\n",
            " (array([1, 2, 2, 3, 3, 3, 4, 4, 4, 4]), array([0, 0, 1, 0, 1, 2, 0, 1, 2, 3]))\n",
            "Nueva matriz con triángulo inferior con valor 1:\n",
            " [[0. 0. 0. 0. 0.]\n",
            " [1. 0. 0. 0. 0.]\n",
            " [1. 1. 0. 0. 0.]\n",
            " [1. 1. 1. 0. 0.]\n",
            " [1. 1. 1. 1. 0.]]\n",
            "Matriz Z girada:\n",
            " [[0. 0. 0. 0. 0.]\n",
            " [0. 0. 0. 0. 1.]\n",
            " [0. 0. 0. 1. 1.]\n",
            " [0. 0. 1. 1. 1.]\n",
            " [0. 1. 1. 1. 1.]]\n",
            "Matriz con los dos triángulos inferiores de valor 1:\n",
            " [[0. 0. 0. 0. 0.]\n",
            " [1. 0. 0. 0. 1.]\n",
            " [1. 1. 0. 1. 1.]\n",
            " [1. 1. 1. 1. 1.]\n",
            " [1. 1. 1. 1. 1.]]\n"
          ]
        },
        {
          "output_type": "execute_result",
          "data": {
            "text/plain": [
              "<matplotlib.image.AxesImage at 0x7cda9c911960>"
            ]
          },
          "metadata": {},
          "execution_count": 57
        },
        {
          "output_type": "display_data",
          "data": {
            "text/plain": [
              "<Figure size 640x480 with 1 Axes>"
            ],
            "image/png": "[encoded data removed]"
          },
          "metadata": {}
        }
      ]
    },
    {
      "cell_type": "code",
      "source": [
        "# Hasta quí tenemos nuestra matriz con 1 en los triángulos inferiores y 0 en el resto\n",
        "# Si queremos cambiar el valor de los triángulos superiores (parte que está con 0) qué podemos hacer?\n",
        "\n",
        "# Como siempre, hay diferentes maneras, la más rápida es con la ayuda de máscaras\n",
        "\n",
        "# Una máscara la entendemos como una matriz de 0 y 1, con 1 en los elementos que queremos considerar y 0 en el resto\n",
        "# De hecho, la matriz que tenemos ahora (Z_girada) la podríamos considerar una máscara para seleccionar los elementos de los triángulos inferiores\n",
        "# ya que es 1 en los tril y 0 en el resto\n",
        "# Sin embargo, ahora queremos la situación inversa, queremos quedarnos con los triángulos superiores (al revés de lo que tenemos)\n",
        "\n",
        "# La manera más rápida es aplicar unas operaciones a la máscara para invertirla\n",
        "# En este caso, si restamos 1 a la matriz Z_girada, nos quedarán los triángulos inferiores a 0 (pasan de 1 a 0)\n",
        "# y el resto será -1 (pasan de 0 a -1).\n",
        "# A continuación, si aplicamos el valor absoluto a todos los elementos de la matriz, los triángulos inferiores se quedarán igual (0)\n",
        "# pero el resto pasará a ser 1! Y así tenemos la máscara que buscábamos.\n",
        "\n",
        "# Vamos a hacerlo\n",
        "# Restamos 1 la matriz Z_girada y después aplicamos el valor absoluto\n",
        "masc_triu = np.abs(Z_girada-1)\n",
        "\n",
        "# Visualizamos la máscara de los triánglos superiores\n",
        "plt.imshow(masc_triu)\n",
        "\n",
        "# Como podemos ver también, las dos matrices son complementarias"
      ],
      "metadata": {
        "colab": {
          "base_uri": "https://localhost:8080/",
          "height": 447
        },
        "id": "sDoPUxYmB7pB",
        "outputId": "2de59a21-661d-4307-ba93-9c386c725d15"
      },
      "execution_count": null,
      "outputs": [
        {
          "output_type": "execute_result",
          "data": {
            "text/plain": [
              "<matplotlib.image.AxesImage at 0x7cda9c8668c0>"
            ]
          },
          "metadata": {},
          "execution_count": 58
        },
        {
          "output_type": "display_data",
          "data": {
            "text/plain": [
              "<Figure size 640x480 with 1 Axes>"
            ],
            "image/png": "[encoded data removed]"
          },
          "metadata": {}
        }
      ]
    },
    {
      "cell_type": "code",
      "source": [
        "# Una vez creada la máscara, si queremos cambiar los valores de los triángulos superiores,\n",
        "# podemos usarla para indicar qué elementos seleccionar\n",
        "\n",
        "# Esta expresión va a seleccionar los elementos de la matriz Z_girada dónde la máscara masc_triu sea 1,\n",
        "# es decir, en los trángulos superiores.\n",
        "# Por ahora el valor es 0, por eso vamos a cambiarlo\n",
        "print(\"Valores triu antes de cambiarlos:\\n\", Z_girada[masc_triu==1])\n",
        "\n",
        "# Primero de todo, vamos a crear una copia para modificar\n",
        "Z_final = Z_girada.copy()\n",
        "\n",
        "# Para cambiarlos, ya que los tenemos seleccionados con esta expresión\n",
        "# vamos a indicar un nuevo valor, por ejemplo 5\n",
        "Z_final[masc_triu==1] = 5\n",
        "\n",
        "# Ahora, si volvemos a mostrar la matriz, los triángulos superiores van a tener valor 5,\n",
        "# Y los inferiores, valor 1\n",
        "print(\"Matriz Z modificada con 2 valores en los triángulos:\\n\", Z_final)"
      ],
      "metadata": {
        "colab": {
          "base_uri": "https://localhost:8080/"
        },
        "id": "-EJr4u_bF-J5",
        "outputId": "ad78b8fd-5a6e-4c8f-9be4-162fe1a0ef8b"
      },
      "execution_count": null,
      "outputs": [
        {
          "output_type": "stream",
          "name": "stdout",
          "text": [
            "Valores triu antes de cambiarlos:\n",
            " [0. 0. 0. 0. 0. 0. 0. 0. 0.]\n",
            "Matriz Z modificada con 2 valores en los triángulos:\n",
            " [[5. 5. 5. 5. 5.]\n",
            " [1. 5. 5. 5. 1.]\n",
            " [1. 1. 5. 1. 1.]\n",
            " [1. 1. 1. 1. 1.]\n",
            " [1. 1. 1. 1. 1.]]\n"
          ]
        }
      ]
    },
    {
      "cell_type": "code",
      "source": [
        "# Otra cosa interesante que se puede hacer con la máscara es comprobar que los elementos tengan el valor que queremos\n",
        "# Por ejemplo, tienen todos los elementos del triángulo superior valor 5?\n",
        "\n",
        "# Como ya hemos comentado, la máscara nos permite seleccionar los elementos que cumplen la condición de tener el valor 1\n",
        "# Si nos fijamos en la máscara masc_triu, el valor 1 lo tienen los elementos de los triángulos superiores\n",
        "# Por lo tanto, usando la máscara nos quedamos con todos los elementos de los triángulos superiores\n",
        "elementos_triu = Z_final[masc_triu==1]\n",
        "\n",
        "# Mostramos su valor\n",
        "print(\"Elementos triu:\\n\", elementos_triu)\n",
        "\n",
        "# Ya sabemos que tienen valor 5, pero podemos comprobarlo para estar seguros\n",
        "# Hay algun elemento que no sea 5?\n",
        "# Para comprobarlo, podemos usar la condición de ser diferente a 5 (!=5)\n",
        "# Esta expresión nos va a dar una expresión booleana diciendo si la condición se cumple o no,\n",
        "# es decir, si el elemento es diferente a 5\n",
        "bool_elem_triu5 = elementos_triu!=5\n",
        "\n",
        "# Mostramos su valor del array de booleanos\n",
        "print(\"Elementos triu:\\n\", bool_elem_triu5)\n",
        "\n",
        "# Como ya hemos comentado, los Booleanos también se pueden interpretar como 1 (True) y 0 (False)\n",
        "# de modo que se pueden sumar y directamente actuarán como o y 1\n",
        "# Por lo tanto, si sumamos los elementos de nuestro array de booleanos, si hay algun elemento True (1)\n",
        "# es decir, que es diferente a 5, la suma nos dará un valor mayor a 0.\n",
        "# En cambio, si todos los elementos son 5, el array de booleans será todo False (0), y la suma dará 0\n",
        "\n",
        "# Sumamos los elementos de bool_elem_triu5 con np.sum()\n",
        "suma_bool = np.sum(bool_elem_triu5)\n",
        "\n",
        "# Mostramos el resultado de la suma\n",
        "print(\"El número de elementos con valor diferente a 5 es:\\n\", suma_bool)\n"
      ],
      "metadata": {
        "colab": {
          "base_uri": "https://localhost:8080/"
        },
        "id": "xLrn90L3Pj4w",
        "outputId": "283ac4ad-fad0-4fed-cc63-615461c0098b"
      },
      "execution_count": null,
      "outputs": [
        {
          "output_type": "stream",
          "name": "stdout",
          "text": [
            "Elementos triu:\n",
            " [5. 5. 5. 5. 5. 5. 5. 5. 5.]\n",
            "Elementos triu:\n",
            " [False False False False False False False False False]\n",
            "El número de elementos con valor diferente a 5 es:\n",
            " 0\n"
          ]
        }
      ]
    },
    {
      "cell_type": "code",
      "source": [
        "# Otra opción posible para hacer este ejercicio de manera más rápida es\n",
        "# inicializar directamente la matriz con valor 5, y después modificar solo los triángulos inferiores\n",
        "# De esta manera no hay necesidad de crear la máscara para los triángulos superiores\n",
        "# (aunque es importante saber cómo hacerlo, ya que puede ser útil en otros casos!)\n",
        "\n",
        "# Creamos una matriz de unos 5x5 de unos\n",
        "Z2 = np.ones((5,5))\n",
        "\n",
        "# A continuación, ponemos todos los elementos de la matriz con valor 5\n",
        "# Multiplicando la matriz por 5\n",
        "# Como ya hemos visto, esta multiplicación se aplica a todos los elementos de la matriz\n",
        "Z2 = Z2*5\n",
        "\n",
        "print(\"Matriz Z inicializada directamente con valor 5:\\n\", Z2)\n",
        "\n",
        "# Y, después solo faltaría aplicar lo que hemos hecho antes:\n",
        "# Usar tril_indices_from para seleccionar los elementos del triángulo inferior\n",
        "# Modificar el valor a 1\n",
        "# Girar la matriz con fliplr\n",
        "# Y volver a usar tril_indices_from para seleccionar y modificar los valores del otro triángulo inferior\n",
        "\n",
        "# Modificamos el valor del triángulo inferior (como hemos hecho en el 1r método)\n",
        "Z2[np.tril_indices_from(Z2, k=-1)] = 1\n",
        "print('Nueva matriz Z2 con triángulo inferior con valor 1:\\n', Z2)\n",
        "\n",
        "# Giramos la matriz\n",
        "Z2_final = np.fliplr(Z2)\n",
        "print('Matriz Z girada:\\n', Z2_final)\n",
        "\n",
        "# Ahora podemos volver a asignar un valor al triángulo inferior, así tendremos los dos triángulos inferiores de valor 1\n",
        "# Seguimos el mismo precedimiento que hemos hecho anteriormente\n",
        "Z2_final[np.tril_indices_from(Z2_final, k=-1)] = 1\n",
        "print('Matriz con los dos triángulos inferiores de valor 1:\\n', Z2_final)"
      ],
      "metadata": {
        "colab": {
          "base_uri": "https://localhost:8080/"
        },
        "id": "1P03yuL7HJax",
        "outputId": "50f45c30-228b-4ce8-f9df-182ffbefd6b1"
      },
      "execution_count": null,
      "outputs": [
        {
          "output_type": "stream",
          "name": "stdout",
          "text": [
            "Matriz Z inicializada directamente con valor 5:\n",
            " [[5. 5. 5. 5. 5.]\n",
            " [5. 5. 5. 5. 5.]\n",
            " [5. 5. 5. 5. 5.]\n",
            " [5. 5. 5. 5. 5.]\n",
            " [5. 5. 5. 5. 5.]]\n",
            "Nueva matriz Z2 con triángulo inferior con valor 1:\n",
            " [[5. 5. 5. 5. 5.]\n",
            " [1. 5. 5. 5. 5.]\n",
            " [1. 1. 5. 5. 5.]\n",
            " [1. 1. 1. 5. 5.]\n",
            " [1. 1. 1. 1. 5.]]\n",
            "Matriz Z girada:\n",
            " [[5. 5. 5. 5. 5.]\n",
            " [5. 5. 5. 5. 1.]\n",
            " [5. 5. 5. 1. 1.]\n",
            " [5. 5. 1. 1. 1.]\n",
            " [5. 1. 1. 1. 1.]]\n",
            "Matriz con los dos triángulos inferiores de valor 1:\n",
            " [[5. 5. 5. 5. 5.]\n",
            " [1. 5. 5. 5. 1.]\n",
            " [1. 1. 5. 1. 1.]\n",
            " [1. 1. 1. 1. 1.]\n",
            " [1. 1. 1. 1. 1.]]\n"
          ]
        }
      ]
    },
    {
      "cell_type": "code",
      "source": [
        "# Ahora vamos a comprobar que las matrices resultantes con los dos métodos son iguales\n",
        "# Si hacemos Z_final == Z2_final se va a comparar elemento por elemento de la matriz Z_final y Z2_final\n",
        "# Y indica si son iguales (True) o no (False)\n",
        "Z_bool = Z_final == Z2_final\n",
        "print('Matriz Z booleans para comparar:\\n', Z_bool)\n",
        "\n",
        "# A simple vista ya vemos que en todos los elementos pone True, de modo que las 2 matrices son iguales\n",
        "# Pero si queremos comprobar si todos los elementos son iguales de manera automática (no visualmente)\n",
        "# podemos usar la función all() que devuelve True si todos los Boolean son True\n",
        "comparacion = (Z_final == Z2_final).all()\n",
        "print(\"Son las dos matrices iguales?:\", comparacion)"
      ],
      "metadata": {
        "colab": {
          "base_uri": "https://localhost:8080/"
        },
        "id": "nij7qdRhI94J",
        "outputId": "60c82181-3149-4cac-d04e-6e5a1e5a2644"
      },
      "execution_count": null,
      "outputs": [
        {
          "output_type": "stream",
          "name": "stdout",
          "text": [
            "Matriz Z booleans para comparar:\n",
            " [[ True  True  True  True  True]\n",
            " [ True  True  True  True  True]\n",
            " [ True  True  True  True  True]\n",
            " [ True  True  True  True  True]\n",
            " [ True  True  True  True  True]]\n",
            "Son las dos matrices iguales?: True\n"
          ]
        }
      ]
    }
  ]
}