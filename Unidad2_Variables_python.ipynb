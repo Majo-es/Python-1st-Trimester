{
  "nbformat": 4,
  "nbformat_minor": 0,
  "metadata": {
    "colab": {
      "provenance": []
    },
    "kernelspec": {
      "name": "python3",
      "display_name": "Python 3"
    },
    "language_info": {
      "name": "python"
    }
  },
  "cells": [
    {
      "cell_type": "markdown",
      "source": [
        "# Introducción a Python"
      ],
      "metadata": {
        "id": "8lM9IeUGsNwm"
      }
    },
    {
      "cell_type": "markdown",
      "source": [
        "## Unidad 2: Variables en Python"
      ],
      "metadata": {
        "id": "Eq4oAJVbsUbj"
      }
    },
    {
      "cell_type": "markdown",
      "source": [
        "**Índice**   \n",
        "1. [Tipos de variables](#id1)\n",
        "2. [Operadores](#id2)\n"
      ],
      "metadata": {
        "id": "b2bMdbsktD-2"
      }
    },
    {
      "cell_type": "markdown",
      "source": [
        "### 1. Tipos de variables <a name=\"id1\"></a>\n",
        "\n",
        "#### 1.1. ¿Qué es una variable?\n",
        "\n",
        "En Python podemos usar distintos tipos de elementos, como números, cadena de texto, listas, funciones, etc. Cada uno de estos elementos tiene su propia caja donde está encapsulada su información, que se denomina **objeto**. Estos objetos tiene un tipo (*type* en inglés, por ejemplo, string o int) y unos datos internos.\n",
        "Si queremos guardar o usar la información de estos objetos tendremos que crear un enlace/referencia. Este proceso se llama declarar una **variable**.\n",
        "\n",
        "A continuación podemos ver un ejemplo:"
      ],
      "metadata": {
        "id": "Sj3XGLERtGpX"
      }
    },
    {
      "cell_type": "code",
      "source": [
        "# Estamos declarando la variable a con un valor de 2\n",
        "a = 2\n",
        "\n",
        "# Ahora declaramos la variable b como una lista\n",
        "b = [1, 2, 3]\n",
        "\n",
        "# También podemos usar una variable para declarar otra\n",
        "c = b"
      ],
      "metadata": {
        "id": "dds5B_4SPSZW"
      },
      "execution_count": null,
      "outputs": []
    },
    {
      "cell_type": "markdown",
      "source": [
        "**Importante**: En algunos languajes, esta asignación (c=b) haría que se copiaran los datos. En Python, c y b en realidad ahora se refieren al mismo objeto. Si modificamos la variable b, este cambio va a impactar también en c."
      ],
      "metadata": {
        "id": "x8yyVspSQBFm"
      }
    },
    {
      "cell_type": "code",
      "source": [
        "b.append(4)\n",
        "\n",
        "print('Variable b: ', b)\n",
        "print('Variable c: ', c)\n"
      ],
      "metadata": {
        "colab": {
          "base_uri": "https://localhost:8080/"
        },
        "id": "AO8jsqflQRqi",
        "outputId": "b7f505e8-7e3f-4121-de99-d9bb74d73f9f"
      },
      "execution_count": null,
      "outputs": [
        {
          "output_type": "stream",
          "name": "stdout",
          "text": [
            "Variable b:  [1, 2, 3, 4]\n",
            "Variable c:  [1, 2, 3, 4]\n"
          ]
        }
      ]
    },
    {
      "cell_type": "markdown",
      "source": [
        "*Cuando creamos una variable, podemos usar cualquier nombre?*\n",
        "\n",
        "Tal como comentamos en la unidad 1, hay unas buenas prácticas que se recomienda seguir, pero Python tiene bastante flexibilidad. Sin embargo, hay un conjunto de palabras, llamadas **palabras reservadas**, que no podemos usar. La razón es que estas palabras ya se usan en tareas internas de Python, por lo tanto, si se usaran, ocurrirían conflictos importantes.\n",
        "\n",
        "Algunas de estas palabras forman parte de la sintaxis básica de Python (por ejemplo: *True*, *False*, *def*, *return*). Otras forman parte de funcionalidades más avanzadas (*async*, *await*, *yield*).\n",
        "\n",
        "Para consultar cuáles son las palabras reservadas en Python, se puede ejecutar el código siguiente:"
      ],
      "metadata": {
        "id": "N0NB5hXYR0xD"
      }
    },
    {
      "cell_type": "code",
      "source": [
        "help('keywords')"
      ],
      "metadata": {
        "colab": {
          "base_uri": "https://localhost:8080/"
        },
        "id": "__sDfQUmSXyI",
        "outputId": "9e6c9548-433b-453f-b3bc-d3d6aa0709ae"
      },
      "execution_count": null,
      "outputs": [
        {
          "output_type": "stream",
          "name": "stdout",
          "text": [
            "\n",
            "Here is a list of the Python keywords.  Enter any keyword to get more help.\n",
            "\n",
            "False               class               from                or\n",
            "None                continue            global              pass\n",
            "True                def                 if                  raise\n",
            "and                 del                 import              return\n",
            "as                  elif                in                  try\n",
            "assert              else                is                  while\n",
            "async               except              lambda              with\n",
            "await               finally             nonlocal            yield\n",
            "break               for                 not                 \n",
            "\n"
          ]
        }
      ]
    },
    {
      "cell_type": "markdown",
      "source": [
        "### 1.2. Tipos de datos\n",
        "\n",
        "En los apartados anteriores ya hemos empezado a ver que los objetos de Python pueden ser de muchos tipos. Por ejemplo, la edad de una persona se almacena como un valor numérico y, su nombre, como caracteres.\n",
        "\n",
        "Python tiene varios tipos de datos estándar que se utilizan para definir las variables:\n",
        "\n",
        "| Tipo de dato| Declaración |\n",
        "| :- | :-: |\n",
        "| enteros (int) | num_entero = 5  |\n",
        "| números decimales (float) | num_dec = 2.5  |\n",
        "| números complejos (complex) | num_complex = 1 + 3j  |\n",
        "| cadena de caracteres (string) | texto = \"Hola mundo\"  |\n",
        "| listas (list) | lista = [1, 2, 3] |\n",
        "| tuplas (tuple) |  libro = ('Harry Potter', 1994) |\n",
        "| diccionarios (dict) | compra = {'kiwi' : 2.5, 'galletas' : 4.7}  |\n"
      ],
      "metadata": {
        "id": "slLxsVpnXRKW"
      }
    },
    {
      "cell_type": "markdown",
      "source": [
        "Así pues, conocer el tipo de un objeto es importante.\n",
        "\n",
        "Para comprobar el tipo de una variable, se puede usar la función isinstance."
      ],
      "metadata": {
        "id": "bqm3RYaZbPtC"
      }
    },
    {
      "cell_type": "code",
      "source": [
        "# Declaramos una variable a con el número entero 5\n",
        "a = 5\n",
        "\n",
        "# En python, los números enteros se llaman int (en inglés integer)\n",
        "# Con la función isinstance podemos comprobar que el tipo de a es int\n",
        "# Si es correcto, obtendremos el boolean True\n",
        "print('a es un int: ', isinstance(a, int))\n",
        "\n",
        "# Si ponemos str (string), que sería una cadena de texto\n",
        "# veremos que el resultando es False, no es correcta la igualdad\n",
        "print('a es un str: ', isinstance(a, str))"
      ],
      "metadata": {
        "colab": {
          "base_uri": "https://localhost:8080/"
        },
        "id": "-ndQT0HnbS0P",
        "outputId": "2e5eacbe-383b-49a9-eb73-7bb456ccef0a"
      },
      "execution_count": null,
      "outputs": [
        {
          "output_type": "stream",
          "name": "stdout",
          "text": [
            "a es un int:  True\n",
            "a es un str:  False\n"
          ]
        }
      ]
    },
    {
      "cell_type": "markdown",
      "source": [
        "Veamos unos ejemplos para cada uno de estos tipos:"
      ],
      "metadata": {
        "id": "p3SfkQ4zbW0U"
      }
    },
    {
      "cell_type": "markdown",
      "source": [
        "#### Tipos numéricos\n",
        "\n",
        "Los tipos numéricos permiten representar valores de forma numérica, ya sean enteros, reales (con decimales) o complejos."
      ],
      "metadata": {
        "id": "NA3j3Rj2as3M"
      }
    },
    {
      "cell_type": "code",
      "source": [
        "# Declaramos un número entero positivo\n",
        "var1 = 1\n",
        "\n",
        "# Declaramos un número entero negativo\n",
        "var2 = -5\n",
        "\n",
        "# Podemos comprar que var1 i var2 son int\n",
        "print('var1 es un int: ', isinstance(var1, int))\n",
        "print('var2 es un int: ', isinstance(var2, int))\n",
        "\n",
        "# Declaramos un número decimal\n",
        "var3 = 2.5\n",
        "# Declaramos un número complejo\n",
        "var4 = 3+5j\n",
        "\n",
        "# Si queremos saber el tipo\n",
        "# Podemos usar la función type\n",
        "# En este caso, var3 es un float\n",
        "print(\"El tipo de var3 es: \", type(var3))\n",
        "# Y var4 es un complex\n",
        "print(\"El tipo de var4 es: \", type(var4))\n",
        "\n",
        "# Con los números complejos podemos\n",
        "# acceder a la parte real o la imaginaria\n",
        "print('Parte real de var4: ',var4.real)\n",
        "print('Parte imaginaria de var4: ', var4.imag)\n",
        "\n",
        "# Tambien podemos cambiar el tipo de las variables\n",
        "# Convertimos un número entero en uno decimal\n",
        "# mediante la función 'float() '\n",
        "var5 = float(7)\n",
        "print(\"El tipo de var5 es: \", type(var3))\n"
      ],
      "metadata": {
        "colab": {
          "base_uri": "https://localhost:8080/"
        },
        "id": "vy0IYwLjasVP",
        "outputId": "40b4ea36-456d-4342-a073-e893a85484fe"
      },
      "execution_count": 1,
      "outputs": [
        {
          "output_type": "stream",
          "name": "stdout",
          "text": [
            "var1 es un int:  True\n",
            "var2 es un int:  True\n",
            "El tipo de var3 es:  <class 'float'>\n",
            "El tipo de var4 es:  <class 'complex'>\n",
            "Parte real de var4:  3.0\n",
            "Parte imaginaria de var4:  5.0\n",
            "El tipo de var5 es:  <class 'float'>\n"
          ]
        }
      ]
    },
    {
      "cell_type": "markdown",
      "source": [
        "#### Cadenas de caracteres\n",
        "\n",
        "\n",
        "\n"
      ],
      "metadata": {
        "id": "iDw0UsKPdfdU"
      }
    },
    {
      "cell_type": "code",
      "source": [
        "# Las cadenas de caracteres son lo que comúnmente llamaríamos texto\n",
        "# El tipo texto se llama string (str)\n",
        "# Declaro una cadena de caracteres\n",
        "string1 = 'Hola, buenos días'\n",
        "print('El valor de string1 es: ', string1)\n",
        "\n",
        "# Podemos juntar dos cadenas usando el operador '+'.\n",
        "# Hablaremos de los operadores en más detalle en la siguiente sección\n",
        "string2 = 'Hola, ' + 'Me llamo ' + 'Maria' + '!'\n",
        "print(string2)"
      ],
      "metadata": {
        "colab": {
          "base_uri": "https://localhost:8080/"
        },
        "id": "EMC6Da91fou1",
        "outputId": "39eaf7d0-5f96-474e-83d6-5ef0e8f87778"
      },
      "execution_count": 2,
      "outputs": [
        {
          "output_type": "stream",
          "name": "stdout",
          "text": [
            "El valor de string1 es:  Hola, buenos días\n",
            "Hola, Me llamo Maria!\n"
          ]
        }
      ]
    },
    {
      "cell_type": "markdown",
      "source": [
        "#### Listas, diccionarios y tuplas\n",
        "\n",
        "Las listas, diccionarios y tuplas son tipos más complejos que los anteriores, pero muy utilizados en Python.\n",
        "\n",
        "**Listas**\n",
        "\n",
        "Una lista es una estructura de datos en Python que es una secuencia de elementos ordenados mutables. Cada elemento o valor que está dentro de una lista se denomina elemento. Así como las cadenas de texto se definen como caracteres entre comillas, las listas se definen con valores entre corchetes [ ]."
      ],
      "metadata": {
        "id": "3YZEzzThiRhA"
      }
    },
    {
      "cell_type": "code",
      "source": [
        "# Declaramos una lista de números int\n",
        "lista1 = [1, 2, 3, 4]\n",
        "\n",
        "# Tambien podemos crear una lista de strings\n",
        "lista2 = ['Hola', 'Adios', 'Bien', 'Mal']\n",
        "\n",
        "# Se puede crear una lista vacía\n",
        "lista3 = []\n",
        "\n",
        "# Y hasta crear listas con elementos de distinto tipo\n",
        "lista4 = [1, 'Hola', 2, 'Adios']\n",
        "\n",
        "# Mostramos los elementos de la lista\n",
        "print(\"lista4: \", lista4)"
      ],
      "metadata": {
        "colab": {
          "base_uri": "https://localhost:8080/"
        },
        "id": "WE2hiwIsluAT",
        "outputId": "024274c9-8c9d-4f31-99a8-3b877371b065"
      },
      "execution_count": 3,
      "outputs": [
        {
          "output_type": "stream",
          "name": "stdout",
          "text": [
            "lista4:  [1, 'Hola', 2, 'Adios']\n"
          ]
        }
      ]
    },
    {
      "cell_type": "code",
      "source": [
        "# También podemos añadir un nuevo elemento a una lista\n",
        "lista4.append('Bien')\n",
        "print(\"Nueva lista4: \", lista4)\n",
        "\n",
        "# O quitarlo\n",
        "lista4.remove('Hola')\n",
        "print(\"Nueva lista4: \", lista4)"
      ],
      "metadata": {
        "colab": {
          "base_uri": "https://localhost:8080/"
        },
        "id": "-tveaDVLmNsl",
        "outputId": "321edbf2-e7e2-403a-d264-b76cf3e845b8"
      },
      "execution_count": 4,
      "outputs": [
        {
          "output_type": "stream",
          "name": "stdout",
          "text": [
            "Nueva lista4:  [1, 'Hola', 2, 'Adios', 'Bien']\n",
            "Nueva lista4:  [1, 2, 'Adios', 'Bien']\n"
          ]
        }
      ]
    },
    {
      "cell_type": "code",
      "source": [
        "# Si queremos ordenar alfabéticamente\n",
        "# una lista de strings\n",
        "# podemos usar la función 'sorted()'\n",
        "print(sorted(lista2))"
      ],
      "metadata": {
        "colab": {
          "base_uri": "https://localhost:8080/"
        },
        "id": "aBVu6-dFmqlg",
        "outputId": "2047f177-0447-441a-f9ac-73f5cbcb8219"
      },
      "execution_count": 5,
      "outputs": [
        {
          "output_type": "stream",
          "name": "stdout",
          "text": [
            "['Adios', 'Bien', 'Hola', 'Mal']\n"
          ]
        }
      ]
    },
    {
      "cell_type": "code",
      "source": [
        "# Tambien podemos concatenar 2 listas\n",
        "lista_pelis = ['Harry Potter', 'Matrix']\n",
        "lista_ciudades = ['Londres', 'Boston']\n",
        "\n",
        "lista_final = lista_pelis + lista_ciudades\n",
        "print(lista_final)\n",
        "\n",
        "# Si queremos ampliar una lista con otra\n",
        "# Podemos usar la función extend\n",
        "lista_nuevas_ciudades = ['Paris', 'Roma']\n",
        "lista_ciudades.extend(lista_nuevas_ciudades)\n",
        "print(lista_ciudades)"
      ],
      "metadata": {
        "colab": {
          "base_uri": "https://localhost:8080/"
        },
        "id": "CFe0pzb_nAXs",
        "outputId": "c0d024d6-09c1-443c-bfcc-c3d29d654d66"
      },
      "execution_count": 6,
      "outputs": [
        {
          "output_type": "stream",
          "name": "stdout",
          "text": [
            "['Harry Potter', 'Matrix', 'Londres', 'Boston']\n",
            "['Londres', 'Boston', 'Paris', 'Roma']\n"
          ]
        }
      ]
    },
    {
      "cell_type": "code",
      "source": [
        "# Si queremos trabjar con algun elemento concreto\n",
        "# podemos acceder a él con su índice\n",
        "print(lista_ciudades[0])\n",
        "\n",
        "# El primer elemento de una lista es el 0,\n",
        "# por lo tanto, el segundo será el 1\n",
        "print(lista_ciudades[1])\n",
        "\n",
        "# Podemos acceder al último elemento mediante números negativos\n",
        "print(lista_ciudades[-1])\n",
        "\n",
        "# Y el penúltimo\n",
        "print(lista_ciudades[-2])"
      ],
      "metadata": {
        "colab": {
          "base_uri": "https://localhost:8080/"
        },
        "id": "DZ_FFk9RnmP5",
        "outputId": "cf4c16be-72c4-47e0-86f3-6b83488243fa"
      },
      "execution_count": 7,
      "outputs": [
        {
          "output_type": "stream",
          "name": "stdout",
          "text": [
            "Londres\n",
            "Boston\n",
            "Roma\n",
            "Paris\n"
          ]
        }
      ]
    },
    {
      "cell_type": "code",
      "source": [
        "# También podemos obtener partes de una lista\n",
        "# mediante la técnica de 'slicing'.\n",
        "dias_semana = ['Lunes', 'Martes', 'Miercoles', 'Jueves',\n",
        "           'Viernes', 'Sabado', 'Domingo']\n",
        "\n",
        "# Por ejemplo, los dos primeros elementos:\n",
        "print(dias_semana[:2])\n",
        "\n",
        "# O los elementos entre las posiciones 2 y 4\n",
        "print(dias_semana[2:5])\n",
        "\n",
        "# O los elementos del segundo al penúltimo:\n",
        "print(dias_semana[1:-1])"
      ],
      "metadata": {
        "colab": {
          "base_uri": "https://localhost:8080/"
        },
        "id": "OmqfZNCWoAN0",
        "outputId": "06630760-e482-4635-e11e-d70dc6511e40"
      },
      "execution_count": null,
      "outputs": [
        {
          "output_type": "stream",
          "name": "stdout",
          "text": [
            "['Lunes', 'Martes']\n",
            "['Miercoles', 'Jueves', 'Viernes']\n",
            "['Martes', 'Miercoles', 'Jueves', 'Viernes', 'Sabado']\n"
          ]
        }
      ]
    },
    {
      "cell_type": "code",
      "source": [
        "# Una cadena de texto (string) se puede considerar\n",
        "# como un conjunto de caracteres\n",
        "# Por lo tanto, podemos acceder a ellos como elementos de una lista\n",
        "\n",
        "# Podemos acceder a una posición determinada\n",
        "personaje = 'Harry Potter me encanta'\n",
        "print(personaje[0])\n",
        "\n",
        "# Podemos usar slicing con las cadenas de caracteres\n",
        "print(personaje[6:12])\n",
        "\n",
        "# Podemos separar un string por el carácter que consideremos\n",
        "# usando la función split()\n",
        "# Usamos _ ya que no queremos guardar los elementos en la 3a y 4a posición\n",
        "nombre, apellido, _ , _ = personaje.split()\n",
        "print(apellido)\n",
        "\n",
        "# Y podemos representar un determinado string\n",
        "# en una lista de caracteres\n",
        "chars = list(apellido)\n",
        "print(chars)\n",
        "\n",
        "# Y con join podemos unir los diferentes elementos de una lista\n",
        "# mediante un carácter especificado\n",
        "print('🐶'.join(chars))\n",
        "print('.'.join(chars))"
      ],
      "metadata": {
        "colab": {
          "base_uri": "https://localhost:8080/"
        },
        "id": "EvZJ_rw-psWf",
        "outputId": "3806c388-a3b6-4bee-a377-8f04ec779a27"
      },
      "execution_count": 10,
      "outputs": [
        {
          "output_type": "stream",
          "name": "stdout",
          "text": [
            "H\n",
            "Potter\n",
            "Potter\n",
            "['P', 'o', 't', 't', 'e', 'r']\n",
            "P🐶o🐶t🐶t🐶e🐶r\n",
            "P.o.t.t.e.r\n"
          ]
        }
      ]
    },
    {
      "cell_type": "code",
      "source": [
        "# Podemos modificar un elemento en concreto de una lista:\n",
        "lista_nombres = ['Maria', 'Pablo', 'Juan']\n",
        "lista_nombres[-1] = 'Pedro'\n",
        "\n",
        "# Mostramos la lista en pantalla\n",
        "print(lista_nombres)"
      ],
      "metadata": {
        "colab": {
          "base_uri": "https://localhost:8080/"
        },
        "id": "TCvBtSsNoSId",
        "outputId": "58dd913d-9300-4dbe-e850-1261a11e415d"
      },
      "execution_count": null,
      "outputs": [
        {
          "output_type": "stream",
          "name": "stdout",
          "text": [
            "['Maria', 'Pablo', 'Pedro']\n"
          ]
        }
      ]
    },
    {
      "cell_type": "markdown",
      "source": [
        "**Tuplas**\n",
        "\n",
        "Una tupla en Python es una colección de objetos separados por comas. De hecho, una tupla es similar a una lista, pero la principal diferencia entre ambos tipos es que la tupla de Python es ***inmutable***, a diferencia de la lista de Python, que es mutable. Es decir, en una tupla, ***una vez declarada no podemos añadir elementos ni eliminarlos***."
      ],
      "metadata": {
        "id": "VD2QNoxYolut"
      }
    },
    {
      "cell_type": "code",
      "source": [
        "libro_HP = ('Harry Potter 1', 'Harry Potter 2')\n",
        "\n",
        "# Si ejecutamos la línea siguiente, obtendremos un error de tipo 'TypeError'\n",
        "libro_HP[1] = 'Harry Potter 3'"
      ],
      "metadata": {
        "colab": {
          "base_uri": "https://localhost:8080/",
          "height": 180
        },
        "id": "NbJLLPkKolHU",
        "outputId": "469e8207-9354-41cc-f718-df8e4d68f70e"
      },
      "execution_count": 8,
      "outputs": [
        {
          "output_type": "error",
          "ename": "TypeError",
          "evalue": "'tuple' object does not support item assignment",
          "traceback": [
            "\u001b[0;31m---------------------------------------------------------------------------\u001b[0m",
            "\u001b[0;31mTypeError\u001b[0m                                 Traceback (most recent call last)",
            "\u001b[0;32m<ipython-input-8-8f3625633b56>\u001b[0m in \u001b[0;36m<cell line: 4>\u001b[0;34m()\u001b[0m\n\u001b[1;32m      2\u001b[0m \u001b[0;34m\u001b[0m\u001b[0m\n\u001b[1;32m      3\u001b[0m \u001b[0;31m# Si ejecutamos la línea siguiente, obtendremos un error de tipo 'TypeError'\u001b[0m\u001b[0;34m\u001b[0m\u001b[0;34m\u001b[0m\u001b[0m\n\u001b[0;32m----> 4\u001b[0;31m \u001b[0mlibro_HP\u001b[0m\u001b[0;34m[\u001b[0m\u001b[0;36m1\u001b[0m\u001b[0;34m]\u001b[0m \u001b[0;34m=\u001b[0m \u001b[0;34m'Harry Potter 3'\u001b[0m\u001b[0;34m\u001b[0m\u001b[0;34m\u001b[0m\u001b[0m\n\u001b[0m",
            "\u001b[0;31mTypeError\u001b[0m: 'tuple' object does not support item assignment"
          ]
        }
      ]
    },
    {
      "cell_type": "code",
      "source": [
        "# Con el operador , podemos desempaquetar los elementos de la tupla\n",
        "hp1, hp2 = libro_HP\n",
        "print(hp1)  # Muestra: Harry Potter 1\n",
        "print(hp2)  # Muestra: Harry Potter 1\n"
      ],
      "metadata": {
        "colab": {
          "base_uri": "https://localhost:8080/"
        },
        "id": "psOrGpSSHD0X",
        "outputId": "11c888af-b8e7-4fe7-9d37-f1ee77ada773"
      },
      "execution_count": 9,
      "outputs": [
        {
          "output_type": "stream",
          "name": "stdout",
          "text": [
            "Harry Potter 1\n",
            "Harry Potter 2\n"
          ]
        }
      ]
    },
    {
      "cell_type": "markdown",
      "source": [
        "**Diccionarios**\n",
        "\n",
        "Un diccionario es una estructura de datos en Python que contiene elementos en forma de clave y su respectivo valor. Es una colección de datos desordenados, indexados y que se pueden cambiar después de la definición del diccionario."
      ],
      "metadata": {
        "id": "hhcxKFmCifHH"
      }
    },
    {
      "cell_type": "code",
      "source": [
        "# Lista de productos con su precio\n",
        "# La clave (en inglés,'key') es el nombre del producto, y el valor, su precio:\n",
        "dict_compra = {'Patata': 1, 'Arroz': 1.5,\n",
        "                 'Caviar': 50, 'Pizza': 3}\n",
        "\n",
        "# Podemos buscar por el nombre del producto (clave)\n",
        "producto = 'Arroz'\n",
        "# Miramos el precio (valor) del elemento Arroz\n",
        "precio = dict_compra[producto]\n",
        "# Mostramos el precio\n",
        "print(precio)\n",
        "\n",
        "# Podemos obtener todas las claves\n",
        "print(dict_compra.keys())\n",
        "\n",
        "# Y los valores\n",
        "print(dict_compra.values())"
      ],
      "metadata": {
        "colab": {
          "base_uri": "https://localhost:8080/"
        },
        "id": "UqnOXYo4qjKQ",
        "outputId": "e1687659-e682-4fec-c3ea-1a54746300b8"
      },
      "execution_count": null,
      "outputs": [
        {
          "output_type": "stream",
          "name": "stdout",
          "text": [
            "1.5\n",
            "dict_keys(['Patata', 'Arroz', 'Caviar', 'Pizza'])\n",
            "dict_values([1, 1.5, 50, 3])\n"
          ]
        }
      ]
    },
    {
      "cell_type": "code",
      "source": [
        "# Podemos definir un diccionario vacio\n",
        "# y añadir elementos en él\n",
        "dict_paises = {}\n",
        "\n",
        "# Añadimos un elemento:\n",
        "dict_paises['ES'] = 'España'\n",
        "\n",
        "# Añadimos otro país:\n",
        "dict_paises['IT'] = 'Italia'\n",
        "\n",
        "print(\"Diccionario inicial: \", dict_paises)\n",
        "\n",
        "# También podemos modificar el valor de una llave\n",
        "dict_paises['IT'] = 'Francia'\n",
        "\n",
        "print(\"Modificamos un elemento: \", dict_paises)\n",
        "\n",
        "# Si queremos eliminar un elemento\n",
        "# Podemos usar pop\n",
        "dict_paises.pop(\"IT\")\n",
        "\n",
        "#o del\n",
        "#del dict_paises['IT']\n",
        "\n",
        "print(\"Eliminamos un elemento: \", dict_paises)"
      ],
      "metadata": {
        "colab": {
          "base_uri": "https://localhost:8080/"
        },
        "id": "Le1ZkkoRrG86",
        "outputId": "f0907ea0-ea30-4ba2-9923-a1794aae6156"
      },
      "execution_count": 11,
      "outputs": [
        {
          "output_type": "stream",
          "name": "stdout",
          "text": [
            "Diccionario inicial:  {'ES': 'España', 'IT': 'Italia'}\n",
            "Modificamos un elemento:  {'ES': 'España', 'IT': 'Francia'}\n",
            "Eliminamos un elemento:  {'ES': 'España'}\n"
          ]
        }
      ]
    },
    {
      "cell_type": "markdown",
      "source": [
        "### 2. Operadores <a name=\"id2\"></a>\n",
        "\n",
        "Los operadores son símbolos que indican al programa que realice una operación específica. Hay 5 tipos:\n",
        "\n",
        "####2.1. Operadores aritméticos\n",
        "Los operadores aritméticos son símbolos que se usan para hacer una operación matemática básica.\n",
        "Por ejemplo, en la expresión `a=3-1`, `3` y `1` son los operandos y `-` es el operador aritmético que indica la operación \"resta\".\n",
        "\n",
        "| Operador| Descripción | Ejemplo\n",
        "| :- | -- | :-: |\n",
        "| + | Suma  | 2 + 1 = 3 |\n",
        "| - | Resta | 2 - 3 = -1 |\n",
        "| * | Multiplicación  | 2 * 4 = 8 |\n",
        "| / | División  | 7 / 2 = 3.5 |\n",
        "| // | División (número entero) | 7 // 2 = 3 |\n",
        "| ** | Potencia  | 2 ** 3 = 8 |\n",
        "| % |  Módulo | 16% 3 = 1 |\n",
        "\n",
        "\n",
        "\n"
      ],
      "metadata": {
        "id": "azpDWQvw9fre"
      }
    },
    {
      "cell_type": "code",
      "source": [
        "# Definimos dos variables var1 y var2\n",
        "var1 = 5\n",
        "var2 = 7\n",
        "\n",
        "# Podemos sumar, restar, multiplicar o dividir estas variables\n",
        "print('Suma: ', var1 + var2)\n",
        "print('Resta: ', var1 - var2)\n",
        "print('Multiplicación: ', var1 * var2)\n",
        "print('División: ', var1 / var2)\n",
        "print('Potencia: ', var1 ** var2)\n",
        "\n",
        "# También podemos hacer la división entera\n",
        "# Como solo queremos con números enteros, no hay parte decimal\n",
        "print('División entera: ', var1 // var2)"
      ],
      "metadata": {
        "colab": {
          "base_uri": "https://localhost:8080/"
        },
        "id": "vc2RvOfpithY",
        "outputId": "b2ac70da-c294-4d5e-ff7b-430892dac029"
      },
      "execution_count": null,
      "outputs": [
        {
          "output_type": "stream",
          "name": "stdout",
          "text": [
            "Suma:  12\n",
            "Resta:  -2\n",
            "Multiplicación:  35\n",
            "División:  0.7142857142857143\n",
            "Potencia:  78125\n",
            "División entera:  0\n"
          ]
        }
      ]
    },
    {
      "cell_type": "markdown",
      "source": [
        "####2.2. Operadores de asignación\n",
        "\n",
        "Los operadores de asignación nos permiten realizar una operación y almacenar su resultado en la variable inicial.\n",
        "\n",
        "Anteriormente ya hemos usado el operador `=`, que se usa en la declaración de variables. Este operador `=` se puede combinar con operadores aritméticos para poder hacer una operación y la asignación a la vez.\n",
        "\n",
        "| Operador| Ejemplo | Alternativa |\n",
        "| :- |  -- |:-: |\n",
        "| = | a = 7 | --- |\n",
        "| += | a += 2 | a = a + 2 |\n",
        "| -= | a -= 7 | a = a - 7 |\n",
        "| * = | a * = 4 | a = a * 4 |\n",
        "| /= | a /= 3 | a = a / 3 |\n",
        "| //= | a //= 5 | a = a //5 |\n",
        "| %= |  a %= 2 | a = a % 2 |\n",
        "| ** = | a ** = 3 | a = a ** 3 |\n",
        "\n",
        "\n",
        "Por ejemplo, escribir a-=7, implica que vamos a disminuir en 7 el valor de `a`, y, a continuación, vamos a actualizar su valor. Si consideramos que el valor inicial de `a` es 3, después de esto, tendrá un valor de -4."
      ],
      "metadata": {
        "id": "o_ongbigjOYp"
      }
    },
    {
      "cell_type": "code",
      "source": [
        "# Definimos un elemento a con valor 3\n",
        "a = 3\n",
        "print(a)\n",
        "\n",
        "# Hacemos la suma de a y 7 y actualizamos su valor\n",
        "a -= 7\n",
        "\n",
        "# Mostramos el nuevo valor de a\n",
        "print(a)"
      ],
      "metadata": {
        "colab": {
          "base_uri": "https://localhost:8080/"
        },
        "id": "7sxJp2K1jYZP",
        "outputId": "aaa8952e-577a-4b6b-ed63-76499a167b69"
      },
      "execution_count": null,
      "outputs": [
        {
          "output_type": "stream",
          "name": "stdout",
          "text": [
            "3\n",
            "-4\n"
          ]
        }
      ]
    },
    {
      "cell_type": "markdown",
      "source": [
        "####2.3. Operadores relacionales\n",
        "\n",
        "Los operadores relacionales se usan para comparar el valor de dos variables según una condición específica, indicando si la condición es cierta o no.\n",
        "\n",
        "Estos operadores devuelven un tipo de datos concretos, denominado `boolean`, que tienen 2 valores: `True` o `False`. Si la condición es cierta, se devuelve el boolean `True`. Si la condición es falsa, se devuelve el boolean `False`.\n",
        "\n",
        "| Operador| Descripción | Ejemplo\n",
        "| :- | -- | :-: |\n",
        "| &gt; | Devuelve True si el operando de la izquierda es mayor que el operando de la derecha  | 5 > 3 : True |\n",
        "| &lt; | Devuelve True si el operando de la izquierda es menor que el operando de la derecha | 1 < 10 : True |\n",
        "| == | Devuelve True si el operando de la izquierda es igual al operando de la derecha  | 3 == 3 : True |\n",
        "| !=| Devuelve True si el operando de la izquierda es diferente que el operando de la derecha  | 3 != 8 : True|\n",
        "| &gt;= | Devuelve True si el operando de la izquierda es mayor o igual que el operando de la derecha | 11 >= 9 : True |\n",
        "| &lt;= |  Devuelve True si el operando de la izquierda es menor o igual que el operando de la derecha | 6 <= 6 : True |\n",
        "\n",
        "\n",
        "**Ejemplo**\n",
        "\n",
        "*¿Qué resultado tendrá 1>10? ¿Y 1<10?*\n",
        "\n",
        "- Caso 1: 1>10\n",
        "\n",
        "La condició es falsa, por lo tanto, Python devolverá el boolean False.\n",
        "\n",
        "- Caso 2: 1<10\n",
        "\n",
        "La condición es cierta, puesto que 1 es más pequeño que 10, de forma que se devolverá el boolean True."
      ],
      "metadata": {
        "id": "YnbOXLzmjl0x"
      }
    },
    {
      "cell_type": "code",
      "source": [
        "# Operadores mayor/menor que\n",
        "\n",
        "# Las operaciones relacionales tendrán como resultado\n",
        "# un valor cierto (True) o falso (False):\n",
        "a = 1\n",
        "b = 10\n",
        "\n",
        "# El valor a es mayor que b?\n",
        "print(a > b)\n",
        "\n",
        "# El valor a es más pequeño que b?\n",
        "print(a < b)"
      ],
      "metadata": {
        "colab": {
          "base_uri": "https://localhost:8080/"
        },
        "id": "csOs4UvEi3bM",
        "outputId": "1d8f86ab-3137-43e4-bc91-538e32633583"
      },
      "execution_count": null,
      "outputs": [
        {
          "output_type": "stream",
          "name": "stdout",
          "text": [
            "False\n",
            "True\n"
          ]
        }
      ]
    },
    {
      "cell_type": "code",
      "source": [
        "# Operadores igual/distinto\n",
        "\n",
        "# Definimos un elemento b\n",
        "b = 5\n",
        "\n",
        "# El valor de b es igual que el de a?\n",
        "print(b == a)\n",
        "\n",
        "# El valor de b es diferente que el de a?\n",
        "print(b != a)"
      ],
      "metadata": {
        "colab": {
          "base_uri": "https://localhost:8080/"
        },
        "id": "CATV7pGIj3UI",
        "outputId": "90e97a0b-1e2e-4289-90d0-32f2f0325b65"
      },
      "execution_count": null,
      "outputs": [
        {
          "output_type": "stream",
          "name": "stdout",
          "text": [
            "False\n",
            "True\n"
          ]
        }
      ]
    },
    {
      "cell_type": "code",
      "source": [
        "# Operadores mayor/menor o igual que\n",
        "# más pequeño o igual '<=',\n",
        "# más grande o igual '>='\n",
        "\n",
        "# Mostramos el resultado\n",
        "print(a <= b)\n",
        "print(a >= b)"
      ],
      "metadata": {
        "colab": {
          "base_uri": "https://localhost:8080/"
        },
        "id": "wM-t1gmRj5zE",
        "outputId": "2e0f9892-ea95-4d45-c7d1-8530d8187358"
      },
      "execution_count": null,
      "outputs": [
        {
          "output_type": "stream",
          "name": "stdout",
          "text": [
            "True\n",
            "False\n"
          ]
        }
      ]
    },
    {
      "cell_type": "markdown",
      "source": [
        "####2.4. Operadores lógicos\n",
        "\n",
        "Los operadores lógicos se usan para combinar condiciones (es decir, dos valores booleanos) y devolver un resultado (verdadero o falso).\n",
        "\n",
        "| Operador| Descripción | Ejemplo\n",
        "| :- | -- | :-: |\n",
        "| and | Devuelve True si ambas condiciones son ciertas  | a and b |\n",
        "| or | Devuelve True si alguna de las condiciones es cierta | a or b |\n",
        "| not | Devuelve True si la condición es falsa | not a |\n"
      ],
      "metadata": {
        "id": "RBJ6PUj8kj4Z"
      }
    },
    {
      "cell_type": "code",
      "source": [
        "# Vamos a practicar con 3 ejemplos\n",
        "\n",
        "# Definimos dos elementos: a y b\n",
        "a = 7\n",
        "b = 3\n",
        "\n",
        "# Mostramos en pantalla los resultados\n",
        "print('Es a mayor y igual a b?: ', (a > b) and (a == b))\n",
        "print('Es a mayor o igual a b?: ', (a > b) or (a == b))\n",
        "print('Es la condición a != b falsa?: ', not (a != b))"
      ],
      "metadata": {
        "colab": {
          "base_uri": "https://localhost:8080/"
        },
        "id": "ralZxrxJkrJ5",
        "outputId": "d0b26fb4-2824-4bea-e9af-d1c09004ad04"
      },
      "execution_count": null,
      "outputs": [
        {
          "output_type": "stream",
          "name": "stdout",
          "text": [
            "Es a mayor y igual a b?:  False\n",
            "Es a mayor o igual a b?:  True\n",
            "Es la condición a != b falsa?:  False\n"
          ]
        }
      ]
    },
    {
      "cell_type": "markdown",
      "source": [
        "\n",
        "**Ejemplo**\n",
        "\n",
        "Tenemos 3 condiciones:\n",
        "- a > b (a mayor que b)\n",
        "- a == b (a igual a b)\n",
        "- a != b (a diferente a b)\n",
        "\n",
        "Situaciones:\n",
        "\n",
        "1. Si consideramos el primer operador lógico `and`, devolverá True si se cumplen las 2 condiciones. En este caso, la 1.ª condición (a > b) se cumple, pero la 2.ª no (a == b). Por lo tanto, (a > b) and (a == b) devolverá el Boolean False.\n",
        "\n",
        "2. En el segundo ejemplo, el operador lógico entre las 2 condiciones es `or`, por lo tanto, la expresión devolverá True si alguna de las condiciones es cierta. En este caso, como la primera condición se cumple,  (a > b) or (a == b) devolverá el Boolean True.\n",
        "\n",
        "3. El operador lógico `not` devolverá True si la condición es falsa. En este caso, la condición es cierta, entonces, not (a != b) devolverá el Boolean False."
      ],
      "metadata": {
        "id": "wjQmBM8hi54C"
      }
    },
    {
      "cell_type": "markdown",
      "source": [
        "####2.5. Operadores de pertenencia\n",
        "\n",
        "Los operadores de pertenencia `in` y `not in` se utilizan para comprobar si un valor o variable se encuentra en una secuencia ( list , tuple , dict , set o str ).\n",
        "\n",
        "Considerando la lista siguiente:\n",
        "`lista_deportes = ['futbol', 'tenis', 'natación']`\n",
        "\n",
        "Vamos a comprobar si los elementos deporte1 (tenis) y deporte2 (karate) están o no en la lista de deportes."
      ],
      "metadata": {
        "id": "cI-OyNmEktpr"
      }
    },
    {
      "cell_type": "code",
      "source": [
        "# Definimos tres elementos: lista deportes, y variables deporte1 y deporte2\n",
        "lista_deportes = ['futbol', 'tenis', 'natación']\n",
        "deporte1 = 'tenis'\n",
        "deporte2 = 'karate'\n",
        "\n",
        "# Mostramos si el elemento está o no en la lista de deportes\n",
        "print(\"¿Está tenis en la lista?: \", deporte1 in lista_deportes) # tenis está en la lista\n",
        "print(\"¿Está karate en la lista?: \", deporte2 in lista_deportes) # karate no está en la lista\n",
        "print(\"¿Karate no está en la lista?: \", deporte2 not in lista_deportes) # karate no está en la lista"
      ],
      "metadata": {
        "colab": {
          "base_uri": "https://localhost:8080/"
        },
        "id": "uRRpe9IYkx0l",
        "outputId": "c841a71d-9bb1-454f-fa94-05ebe197244e"
      },
      "execution_count": null,
      "outputs": [
        {
          "output_type": "stream",
          "name": "stdout",
          "text": [
            "¿Está tenis en la lista?:  True\n",
            "¿Está karate en la lista?:  False\n",
            "¿Karate no está en la lista?:  True\n"
          ]
        }
      ]
    },
    {
      "cell_type": "markdown",
      "source": [
        "También podemos usar estos operadores con otros tipos de variables en forma de secuencia, como diccionarios."
      ],
      "metadata": {
        "id": "QrMLRy_OlvPO"
      }
    },
    {
      "cell_type": "code",
      "source": [
        "# Creamos un diccionario que contiene, para cada alumno (clave)\n",
        "# su calificación (valor)\n",
        "calificaciones = {\n",
        "    \"Juan\": 85,\n",
        "    \"Ana\": 92,\n",
        "    \"Luis\": 78\n",
        "}\n",
        "\n",
        "# Podemos comprobar si los alumnos forman parte de la clave del diccionario\n",
        "if \"Ana\" in calificaciones:\n",
        "    print(\"Ana está en el diccionario.\")\n",
        "\n",
        "if \"Pedro\" not in calificaciones:\n",
        "    print(\"Pedro no está en el diccionario.\")\n"
      ],
      "metadata": {
        "id": "507-zxLKkdwL",
        "colab": {
          "base_uri": "https://localhost:8080/"
        },
        "outputId": "1a692fba-f1c2-4892-d62c-61b9076195ba"
      },
      "execution_count": null,
      "outputs": [
        {
          "output_type": "stream",
          "name": "stdout",
          "text": [
            "Ana está en el diccionario.\n",
            "Pedro no está en el diccionario.\n"
          ]
        }
      ]
    },
    {
      "cell_type": "code",
      "source": [],
      "metadata": {
        "id": "gLyXL9o5mQ-3"
      },
      "execution_count": null,
      "outputs": []
    }
  ]
}