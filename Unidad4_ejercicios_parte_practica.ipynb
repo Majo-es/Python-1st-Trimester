{
  "cells": [
    {
      "cell_type": "markdown",
      "metadata": {
        "id": "WDdiLKvf7M6N"
      },
      "source": [
        "Introducción a Python\n",
        "============================\n",
        "\n",
        "##Unidad 4 - Ejercicios Parte práctica\n",
        "\n",
        "-----------------------------------------------------"
      ]
    },
    {
      "cell_type": "markdown",
      "source": [
        "### Ejercicio 1\n",
        "\n",
        "En este ejercicio vamos a trabajar las operaciones con matrices.\n",
        "\n",
        "a) Crea las matrices siguientes:\n",
        "\n",
        "- Una matriz (A) 4x4 que contenga todos los enteros entre 1 y 16.\n",
        "- La matriz identidad (B) 4x4.\n",
        "- Una matriz (C) 5x4 con valores enteros aleatorios (*random*) entre 0 y 9.\n",
        "\n",
        "\n",
        "b) Considerando las matrices del apartado anterior, haz las siguientes operaciones:\n",
        "\n",
        "- Multiplica las matrices A y B. Explica el resultado obtenido.\n",
        "- Multiplica las matrices A y C. Explica brevemente qué método de multiplicación has elegido y el resultado obtenido.\n",
        "\n",
        "**Nota**: En ambos apartados, muestra el resultado por pantalla para comprobar que las matrices se han creado correctamente."
      ],
      "metadata": {
        "id": "s_6dbTzj4m_Y"
      }
    },
    {
      "cell_type": "code",
      "source": [
        "# Respuesta A)\n",
        "# Importamos la librería NumPy\n",
        "import numpy as np\n",
        "\n",
        "# Una matriz (A) 4x4 que contenga todos los enteros entre 1 y 16:\n",
        "A = np.arange(1, 17).reshape(4, 4)\n",
        "print(\"Matriz 4x4:\\n\", A)\n",
        "\n",
        "\n",
        "enteros_num = np.array([[1, 2, 3, 4],\n",
        "                        [5, 6, 7, 8],\n",
        "                        [9, 10, 11, 12],\n",
        "                        [13, 14, 15, 16]])\n",
        "\n",
        "print(\"\\n a)Matriz 4x4:\\n\", enteros_num)\n",
        "print(\"ndim de array: \", enteros_num.ndim)\n",
        "print(\"ndim de array: \", enteros_num.shape)\n",
        "print(\"ndim de array: \", enteros_num.size)\n",
        "\n",
        "# La matriz identidad (B) 4x4:\n",
        "print(\"\\n b) Matriz identidad 4x4:\\n\", np.eye(4))\n",
        "\n",
        "# Una matriz (C) 5x4 con valores enteros aleatorios (*random*) entre 0 y 9:\n",
        "random_num = np.random.randint(10, size=(5, 4))\n",
        "\n",
        "print(\"\\n c)Matriz 5x4:\\n\", random_num)"
      ],
      "metadata": {
        "id": "kWAZ_SMgxn1x",
        "colab": {
          "base_uri": "https://localhost:8080/"
        },
        "outputId": "003084d0-66a2-4c26-f616-9e79982212e3"
      },
      "execution_count": null,
      "outputs": [
        {
          "output_type": "stream",
          "name": "stdout",
          "text": [
            "Matriz 4x4:\n",
            " [[ 1  2  3  4]\n",
            " [ 5  6  7  8]\n",
            " [ 9 10 11 12]\n",
            " [13 14 15 16]]\n",
            "\n",
            " a)Matriz 4x4:\n",
            " [[ 1  2  3  4]\n",
            " [ 5  6  7  8]\n",
            " [ 9 10 11 12]\n",
            " [13 14 15 16]]\n",
            "ndim de array:  2\n",
            "ndim de array:  (4, 4)\n",
            "ndim de array:  16\n",
            "\n",
            " b) Matriz identidad 4x4:\n",
            " [[1. 0. 0. 0.]\n",
            " [0. 1. 0. 0.]\n",
            " [0. 0. 1. 0.]\n",
            " [0. 0. 0. 1.]]\n",
            "\n",
            " c)Matriz 5x4:\n",
            " [[2 0 8 0]\n",
            " [9 7 7 4]\n",
            " [1 2 9 8]\n",
            " [3 0 5 6]\n",
            " [6 6 6 5]]\n"
          ]
        }
      ]
    },
    {
      "cell_type": "markdown",
      "source": [
        "### Ejercicio 2\n",
        "\n",
        "Realiza la normalización de una matriz aleatoria de dimensiones 10x10 empleando sus valores de `media` y `desviación estándar`,  tal como se indica en la siguiente equación:\n",
        "\n",
        "x_norm = (x - media)/std\n",
        "\n",
        "A continuación, verifica que los valores de media y desviación estándar en la matriz normalizada se aproximan considerablemente a 0 y 1 respectivamente.\n",
        "\n",
        "**Nota:** Para resolver este ejercicio os pueden ser de utilidad las funciones [mean](https://numpy.org/doc/stable/reference/generated/numpy.mean.html) o [std](https://numpy.org/doc/stable/reference/generated/numpy.std.html) de NumPy.\n"
      ],
      "metadata": {
        "id": "6Nz-cpJ2oTbK"
      }
    },
    {
      "cell_type": "code",
      "source": [
        "# Respuesta\n",
        "random_num2 = np.random.randint(0, 9, size=(10, 10))\n",
        "print(\"\\nMatriz 10x10:\\n\", random_num2)\n",
        "\n",
        "# OR\n",
        "M = np.random.random((10, 10))\n",
        "print(\"\\nMatriz 10x10:\\n\", M)\n",
        "\n",
        "# Calculamos la media y la desviación estándar de la matriz\n",
        "mean_1 = np.mean(random_num2)\n",
        "print(\"\\nMean: \", mean_1)\n",
        "\n",
        "standar_d = np.std(random_num2)\n",
        "print(\"\\nstd: \", standar_d)\n",
        "\n",
        "# Normalización de la matriz\n",
        "x_norm = (random_num2 - mean_1)/standar_d\n",
        "\n",
        "print(\"\\nMatriz normalizada:\\n\", x_norm)"
      ],
      "metadata": {
        "id": "fYE2fcKzxqc4",
        "colab": {
          "base_uri": "https://localhost:8080/"
        },
        "outputId": "2dd5e73d-79c2-49b9-86e0-e1b1096f86c8"
      },
      "execution_count": null,
      "outputs": [
        {
          "output_type": "stream",
          "name": "stdout",
          "text": [
            "\n",
            "Matriz 10x10:\n",
            " [[7 1 3 1 2 1 8 6 0 8]\n",
            " [4 5 5 7 4 1 3 0 4 6]\n",
            " [3 3 4 7 0 6 1 5 7 2]\n",
            " [0 1 7 5 3 1 5 3 1 3]\n",
            " [2 6 6 7 1 5 0 6 7 4]\n",
            " [3 6 1 5 4 4 1 6 4 6]\n",
            " [6 8 2 7 8 6 1 6 3 1]\n",
            " [4 1 3 2 6 8 1 2 6 4]\n",
            " [6 0 5 1 5 1 0 0 2 8]\n",
            " [6 0 8 7 6 7 1 2 7 2]]\n",
            "\n",
            "Matriz 10x10:\n",
            " [[0.12889554 0.99094046 0.45691316 0.82020522 0.1933378  0.67550689\n",
            "  0.60548265 0.34905162 0.69635699 0.38381808]\n",
            " [0.83921269 0.84819287 0.0023826  0.50118745 0.64119903 0.39015416\n",
            "  0.50850183 0.95594818 0.57563491 0.02566597]\n",
            " [0.7455446  0.45789006 0.8038626  0.28459659 0.60413643 0.34074659\n",
            "  0.2261509  0.9691726  0.43908031 0.00506666]\n",
            " [0.55284375 0.12971237 0.98460142 0.38817311 0.78235529 0.36003155\n",
            "  0.48312625 0.32901105 0.43042042 0.91459751]\n",
            " [0.33752022 0.4217541  0.91009265 0.77733867 0.74030355 0.20267362\n",
            "  0.50820154 0.42245226 0.22805878 0.59024897]\n",
            " [0.12171409 0.91648848 0.8437442  0.58867971 0.00170082 0.80106511\n",
            "  0.27071131 0.78862006 0.95921195 0.32934942]\n",
            " [0.62648337 0.68362456 0.09728006 0.06673568 0.25050682 0.71675058\n",
            "  0.1993651  0.60345865 0.99210676 0.94888643]\n",
            " [0.0750159  0.81598019 0.96224354 0.8911634  0.94241967 0.90976747\n",
            "  0.05456888 0.70235386 0.11061821 0.219414  ]\n",
            " [0.58315476 0.74171828 0.18888967 0.7882446  0.89314864 0.4510038\n",
            "  0.37439137 0.8023189  0.25912089 0.87550788]\n",
            " [0.46390862 0.96645276 0.2337442  0.18349477 0.29365397 0.77649337\n",
            "  0.01622197 0.49852609 0.85310971 0.82907956]]\n",
            "\n",
            "Mean:  3.86\n",
            "\n",
            "std:  2.5259453675802255\n",
            "\n",
            "Matriz normalizada:\n",
            " [[ 1.24309894 -1.13224935 -0.34046659 -1.13224935 -0.73635797 -1.13224935\n",
            "   1.63899032  0.84720756 -1.52814073  1.63899032]\n",
            " [ 0.05542479  0.45131617  0.45131617  1.24309894  0.05542479 -1.13224935\n",
            "  -0.34046659 -1.52814073  0.05542479  0.84720756]\n",
            " [-0.34046659 -0.34046659  0.05542479  1.24309894 -1.52814073  0.84720756\n",
            "  -1.13224935  0.45131617  1.24309894 -0.73635797]\n",
            " [-1.52814073 -1.13224935  1.24309894  0.45131617 -0.34046659 -1.13224935\n",
            "   0.45131617 -0.34046659 -1.13224935 -0.34046659]\n",
            " [-0.73635797  0.84720756  0.84720756  1.24309894 -1.13224935  0.45131617\n",
            "  -1.52814073  0.84720756  1.24309894  0.05542479]\n",
            " [-0.34046659  0.84720756 -1.13224935  0.45131617  0.05542479  0.05542479\n",
            "  -1.13224935  0.84720756  0.05542479  0.84720756]\n",
            " [ 0.84720756  1.63899032 -0.73635797  1.24309894  1.63899032  0.84720756\n",
            "  -1.13224935  0.84720756 -0.34046659 -1.13224935]\n",
            " [ 0.05542479 -1.13224935 -0.34046659 -0.73635797  0.84720756  1.63899032\n",
            "  -1.13224935 -0.73635797  0.84720756  0.05542479]\n",
            " [ 0.84720756 -1.52814073  0.45131617 -1.13224935  0.45131617 -1.13224935\n",
            "  -1.52814073 -1.52814073 -0.73635797  1.63899032]\n",
            " [ 0.84720756 -1.52814073  1.63899032  1.24309894  0.84720756  1.24309894\n",
            "  -1.13224935 -0.73635797  1.24309894 -0.73635797]]\n"
          ]
        }
      ]
    },
    {
      "cell_type": "markdown",
      "source": [
        "### Ejercicio 3\n",
        "\n",
        "En este ejercicio pondremos en practica las operaciones con arrays 1D.\n",
        "\n",
        "a) Crea un array 1D con elementos del 1 al 20.\n",
        "\n",
        "b) Crea un subset de este array con los 10 primeros elementos.\n",
        "\n",
        "c) Intercambia el valor del primer y el último valor de este subset.\n",
        "\n",
        "d) Divide el array inicial por la suma total del subset.\n",
        "\n",
        "e) Crea un nuevo array con aquellos elementos mayores a 10.\n",
        "\n",
        "f) Multiplica por 2 aquellos elementos entre 5 y 15 y crea un nuevo array con esta modificación."
      ],
      "metadata": {
        "id": "9xQ0IChy1rOA"
      }
    },
    {
      "cell_type": "code",
      "source": [
        "# Respuesta\n",
        "# a) Crea un array 1D con elementos del 1 al 20\n",
        "array_1 = np.arange(1, 21)\n",
        "print(\"\\n 1D Array \\n\", array_1)\n",
        "\n",
        "# OR:\n",
        "\n",
        "\n",
        "# b) Crea un subset de este array con los 10 primeros elementos.\n",
        "subset_array_1 = array_1[:10]\n",
        "print(subset_array_1)\n",
        "\n",
        "# c) Intercambia el valor del primer y el último valor de este subset.\n",
        "copy_array_1 = subset_array_1.copy()\n",
        "copy_array_1[0] = subset_array_1[-1]\n",
        "copy_array_1[-1] = subset_array_1[0]\n",
        "print(\"\\n Cambiamos el valor de 1 y 10 \\n\", copy_array_1)\n",
        "\n",
        "# d) Divide el array inicial por la suma total del subset.\n",
        "new_array = array_1 / np.sum(subset_array_1)\n",
        "print(\"\\n SUMA Y DIVISION \\n\", new_array)\n",
        "\n",
        "# e) Crea un nuevo array con aquellos elementos mayores a 10.\n",
        "new_array2 = array_1[array_1 > 10]\n",
        "print(\"\\n Elementos mayores a 10 \\n\", new_array2)\n",
        "\n",
        "# f) Multiplica por 2 aquellos elementos entre 5 y 15 y crea un nuevo array con esta modificación. (BOOLEANS)\n"
      ],
      "metadata": {
        "id": "R2TE6PVjxr7a",
        "colab": {
          "base_uri": "https://localhost:8080/"
        },
        "outputId": "018d1aad-dc7c-446c-cdb0-dab733e75f50"
      },
      "execution_count": null,
      "outputs": [
        {
          "output_type": "stream",
          "name": "stdout",
          "text": [
            "\n",
            " 1D Array \n",
            " [ 1  2  3  4  5  6  7  8  9 10 11 12 13 14 15 16 17 18 19 20]\n",
            "[ 1  2  3  4  5  6  7  8  9 10]\n",
            "\n",
            " Cambiamos el valor de 1 y 10 \n",
            " [10  2  3  4  5  6  7  8  9  1]\n",
            "\n",
            " SUMA Y DIVISION \n",
            " [0.01818182 0.03636364 0.05454545 0.07272727 0.09090909 0.10909091\n",
            " 0.12727273 0.14545455 0.16363636 0.18181818 0.2        0.21818182\n",
            " 0.23636364 0.25454545 0.27272727 0.29090909 0.30909091 0.32727273\n",
            " 0.34545455 0.36363636]\n",
            "\n",
            " Elementos mayores a 10 \n",
            " [11 12 13 14 15 16 17 18 19 20]\n"
          ]
        }
      ]
    },
    {
      "cell_type": "markdown",
      "source": [
        "### Ejercicio 4\n",
        "\n",
        "Crea una matriz 15x15 con el borde exterior de valor 1, y todos los elementos interiores con valor 0."
      ],
      "metadata": {
        "id": "B_L7ZhRgocoB"
      }
    },
    {
      "cell_type": "code",
      "source": [
        "# Respuesta\n",
        "Z = np.ones((15, 15))\n",
        "# borders\n",
        "Z[1:-1, 1:-1] = 0\n",
        "print(\"Matriz 15x15: \\n\",Z)"
      ],
      "metadata": {
        "id": "uFI-kNbFxtez",
        "colab": {
          "base_uri": "https://localhost:8080/"
        },
        "outputId": "5a080b15-90cd-455b-ff98-051e80c5f3a6"
      },
      "execution_count": null,
      "outputs": [
        {
          "output_type": "stream",
          "name": "stdout",
          "text": [
            "Matriz 15x15: \n",
            " [[1. 1. 1. 1. 1. 1. 1. 1. 1. 1. 1. 1. 1. 1. 1.]\n",
            " [1. 0. 0. 0. 0. 0. 0. 0. 0. 0. 0. 0. 0. 0. 1.]\n",
            " [1. 0. 0. 0. 0. 0. 0. 0. 0. 0. 0. 0. 0. 0. 1.]\n",
            " [1. 0. 0. 0. 0. 0. 0. 0. 0. 0. 0. 0. 0. 0. 1.]\n",
            " [1. 0. 0. 0. 0. 0. 0. 0. 0. 0. 0. 0. 0. 0. 1.]\n",
            " [1. 0. 0. 0. 0. 0. 0. 0. 0. 0. 0. 0. 0. 0. 1.]\n",
            " [1. 0. 0. 0. 0. 0. 0. 0. 0. 0. 0. 0. 0. 0. 1.]\n",
            " [1. 0. 0. 0. 0. 0. 0. 0. 0. 0. 0. 0. 0. 0. 1.]\n",
            " [1. 0. 0. 0. 0. 0. 0. 0. 0. 0. 0. 0. 0. 0. 1.]\n",
            " [1. 0. 0. 0. 0. 0. 0. 0. 0. 0. 0. 0. 0. 0. 1.]\n",
            " [1. 0. 0. 0. 0. 0. 0. 0. 0. 0. 0. 0. 0. 0. 1.]\n",
            " [1. 0. 0. 0. 0. 0. 0. 0. 0. 0. 0. 0. 0. 0. 1.]\n",
            " [1. 0. 0. 0. 0. 0. 0. 0. 0. 0. 0. 0. 0. 0. 1.]\n",
            " [1. 0. 0. 0. 0. 0. 0. 0. 0. 0. 0. 0. 0. 0. 1.]\n",
            " [1. 1. 1. 1. 1. 1. 1. 1. 1. 1. 1. 1. 1. 1. 1.]]\n"
          ]
        }
      ]
    },
    {
      "cell_type": "markdown",
      "source": [
        "###Ejercicio 5\n",
        "\n",
        "En este ejercicio, vamos a aplicar nuestros conocimientos de estructuras de control, como bucles `for` y condicionales `if`, para completar una matriz en base a ciertas condiciones.\n",
        "\n",
        "a) Crea una matriz de 10x10 con valor de 1.\n",
        "\n",
        "b) Rellena la matriz siguiendo las siguientes indicaciones.\n",
        "Considerando los valores de cada posición  `(i, j)`:\n",
        "- En la diagonal, el valor será `2i + 3j`\n",
        "- Para el resto de posiciones, el valor será `(i*j + 2)`."
      ],
      "metadata": {
        "id": "N3TSrA05bYQB"
      }
    },
    {
      "cell_type": "code",
      "source": [
        "# Respuesta\n",
        "m= np.ones((10, 10), dtype=int)\n",
        "print(\"Matriz 10x10: \\n\", m)\n",
        "\n",
        "for i in range(10):\n",
        "    for j in range(10):\n",
        "        if i == j:\n",
        "            m[i, j] = 2 * i + 3 * j\n",
        "        else:\n",
        "            m[i, j] = i * j + 2\n",
        "print(m)"
      ],
      "metadata": {
        "id": "88zEPsD8xzDZ",
        "colab": {
          "base_uri": "https://localhost:8080/"
        },
        "outputId": "6fdedcbd-4a15-4227-9a19-a60ef651e5b2"
      },
      "execution_count": null,
      "outputs": [
        {
          "output_type": "stream",
          "name": "stdout",
          "text": [
            "Matriz 10x10: \n",
            " [[1 1 1 1 1 1 1 1 1 1]\n",
            " [1 1 1 1 1 1 1 1 1 1]\n",
            " [1 1 1 1 1 1 1 1 1 1]\n",
            " [1 1 1 1 1 1 1 1 1 1]\n",
            " [1 1 1 1 1 1 1 1 1 1]\n",
            " [1 1 1 1 1 1 1 1 1 1]\n",
            " [1 1 1 1 1 1 1 1 1 1]\n",
            " [1 1 1 1 1 1 1 1 1 1]\n",
            " [1 1 1 1 1 1 1 1 1 1]\n",
            " [1 1 1 1 1 1 1 1 1 1]]\n",
            "[[ 0  2  2  2  2  2  2  2  2  2]\n",
            " [ 2  5  4  5  6  7  8  9 10 11]\n",
            " [ 2  4 10  8 10 12 14 16 18 20]\n",
            " [ 2  5  8 15 14 17 20 23 26 29]\n",
            " [ 2  6 10 14 20 22 26 30 34 38]\n",
            " [ 2  7 12 17 22 25 32 37 42 47]\n",
            " [ 2  8 14 20 26 32 30 44 50 56]\n",
            " [ 2  9 16 23 30 37 44 35 58 65]\n",
            " [ 2 10 18 26 34 42 50 58 40 74]\n",
            " [ 2 11 20 29 38 47 56 65 74 45]]\n"
          ]
        }
      ]
    }
  ],
  "metadata": {
    "kernelspec": {
      "display_name": "Python 3",
      "language": "python",
      "name": "python3"
    },
    "language_info": {
      "codemirror_mode": {
        "name": "ipython",
        "version": 3
      },
      "file_extension": ".py",
      "mimetype": "text/x-python",
      "name": "python",
      "nbconvert_exporter": "python",
      "pygments_lexer": "ipython3",
      "version": "3.7.6"
    },
    "colab": {
      "provenance": []
    }
  },
  "nbformat": 4,
  "nbformat_minor": 0
}