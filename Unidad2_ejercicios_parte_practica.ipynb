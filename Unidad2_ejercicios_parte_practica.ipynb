{
  "cells": [
    {
      "cell_type": "markdown",
      "metadata": {
        "id": "WDdiLKvf7M6N"
      },
      "source": [
        "Introducción a Python\n",
        "============================\n",
        "\n",
        "Ejercicios Parte práctica\n",
        "-----------------------------------------------------\n",
        "\n"
      ]
    },
    {
      "cell_type": "markdown",
      "source": [
        "### Ejercicio 1\n",
        "\n",
        "a) Queremos crear un programa que, dados dos números, nos diga si el primero es mayor que el segundo. Por ejemplo, 2 es mayor a 1? True.\n",
        "\n",
        "b) Modifica el código para que el usuario introduzca los 2 números por pantalla."
      ],
      "metadata": {
        "id": "s_6dbTzj4m_Y"
      }
    },
    {
      "cell_type": "code",
      "source": [
        "# EXAMPLE:\n",
        "num1 = 2\n",
        "num2 = 1\n",
        "\n",
        "print(f\"{num1} es mayor que {num2}?\", num1 > num2)"
      ],
      "metadata": {
        "colab": {
          "base_uri": "https://localhost:8080/"
        },
        "id": "jweu578dPC0X",
        "outputId": "4ed2e4f6-e7c3-4ca9-f716-77b5d067860d"
      },
      "execution_count": 54,
      "outputs": [
        {
          "output_type": "stream",
          "name": "stdout",
          "text": [
            "2 es mayor que 1? True\n"
          ]
        }
      ]
    },
    {
      "cell_type": "code",
      "source": [
        "# a:\n",
        "number1 = 10\n",
        "number2 = 5\n",
        "\n",
        "if number1 > number2:\n",
        "  print(\"number1  is bigger/greater than number2\", number1 > number2)"
      ],
      "metadata": {
        "colab": {
          "base_uri": "https://localhost:8080/"
        },
        "id": "jQRGbsne5BRA",
        "outputId": "9d5d8009-deeb-45c1-e4f8-fd09d8d9f7ef"
      },
      "execution_count": 63,
      "outputs": [
        {
          "output_type": "stream",
          "name": "stdout",
          "text": [
            "number1  is bigger/greater than number2 True\n"
          ]
        }
      ]
    },
    {
      "cell_type": "code",
      "source": [
        "# b:\n",
        "# user input with floats:\n",
        "number1 = float(input(\"Please enter the first number: \"))\n",
        "number2 = float(input(\"Please enter the second  number: \"))\n",
        "\n",
        "# use f string\n",
        "if number1 > number2:\n",
        "  print(f\"{number1} is bigger/greater than {number2}\", number1>number2)\n",
        "elif number2 > number1:\n",
        "  print(f\"{number2} is bigger/greater than {number1}\", number1>number2)\n",
        "else:\n",
        "  print(\"Both r =\")"
      ],
      "metadata": {
        "id": "6B1CF72Af1Vp",
        "colab": {
          "base_uri": "https://localhost:8080/"
        },
        "outputId": "1149c44a-c16e-431e-df08-c7d0c3e753f9"
      },
      "execution_count": 56,
      "outputs": [
        {
          "output_type": "stream",
          "name": "stdout",
          "text": [
            "Please enter the first number: 45.6\n",
            "Please enter the second  number: 34.6\n",
            "45.6 is bigger/greater than 34.6 True\n"
          ]
        }
      ]
    },
    {
      "cell_type": "code",
      "source": [
        "# user input with int:\n",
        "number1 = int(input(\"Please enter the first number: \"))\n",
        "number2 = int(input(\"Please enter the second  number: \"))\n",
        "\n",
        "if number1 > number2:\n",
        "  print(\"number1  is bigger/greater than number2\", number1>number2)\n",
        "elif number2 > number1:\n",
        "  print(\"number2 is bigger/greater than number1\", number1>number2)\n",
        "else:\n",
        "  print(\"Both r =\")"
      ],
      "metadata": {
        "colab": {
          "base_uri": "https://localhost:8080/"
        },
        "id": "7tidJ6Gw1oRH",
        "outputId": "978d2dd0-3cfa-475a-f528-4de1fa22960a"
      },
      "execution_count": 62,
      "outputs": [
        {
          "output_type": "stream",
          "name": "stdout",
          "text": [
            "Please enter the first number: 45\n",
            "Please enter the second  number: 28\n",
            "number1  is bigger/greater than number2 True\n"
          ]
        }
      ]
    },
    {
      "cell_type": "markdown",
      "source": [
        "### Ejercicio 2\n",
        "\n",
        "a) Crea una lista con los doce meses del año, de Enero a Diciembre.\n",
        "\n",
        "b) Selecciona de la lista los meses impares y muéstralos por pantalla.\n",
        "\n",
        "c) Muestra la lista de meses invertida (ordenada de Diciembre a Enero).\n",
        "\n",
        "d) Crea las listas `primavera`,`verano`, `otoño`,` invierno`, que incluyan los meses correspondientes (e.g. primavera incluye los meses marzo, abril y mayo), a partir de los elementos de la lista de meses.\n",
        "\n",
        "e) Crea un código que, dado un elemento `mes` (e.g. Enero) de la lista, muestre la frase siguiente:\n",
        "\n",
        "\"El mes del año que más me gusta es Enero\".\n",
        "\n",
        "f) Modifica el código del apartado e) para que el usuario introduzca el mes por pantalla.\n",
        "\n"
      ],
      "metadata": {
        "id": "v6e2ZrHS8Tt0"
      }
    },
    {
      "cell_type": "code",
      "source": [
        "# a: LIST[]\n",
        "months = [\"January\", \"February\",\n",
        "          \"March\", \"April\",\n",
        "          \"May\", \"June\",\n",
        "          \"July\", \"August\",\n",
        "          \"September\", \"October\",\n",
        "          \"November\", \"December\"]\n",
        "print(months)"
      ],
      "metadata": {
        "id": "tjGrzH44rGFr",
        "colab": {
          "base_uri": "https://localhost:8080/"
        },
        "outputId": "adc46683-fb61-4257-eae6-a5182c2ae3ac"
      },
      "execution_count": 16,
      "outputs": [
        {
          "output_type": "stream",
          "name": "stdout",
          "text": [
            "['January', 'February', 'March', 'April', 'May', 'June', 'July', 'August', 'September', 'October', 'November', 'December']\n"
          ]
        }
      ]
    },
    {
      "cell_type": "code",
      "source": [
        "# b: LIST[] ODD MONTHS\n",
        "months = [\"January\", \"February\",\n",
        "          \"March\", \"April\",\n",
        "          \"May\", \"June\",\n",
        "          \"July\", \"August\",\n",
        "          \"September\", \"October\",\n",
        "          \"November\", \"December\"]\n",
        "print(\"List of odd months: \", months [0:11:2])"
      ],
      "metadata": {
        "colab": {
          "base_uri": "https://localhost:8080/"
        },
        "id": "5B1QoK0Qxqjx",
        "outputId": "fdade496-c0f4-4290-dd9c-bb68f102e57e"
      },
      "execution_count": 57,
      "outputs": [
        {
          "output_type": "stream",
          "name": "stdout",
          "text": [
            "List of odd months:  ['January', 'March', 'May', 'July', 'September', 'November']\n"
          ]
        }
      ]
    },
    {
      "cell_type": "code",
      "source": [
        "# c: INVERTED LIST[]\n",
        "months = [\"January\", \"February\",\n",
        "          \"March\", \"April\",\n",
        "          \"May\", \"June\",\n",
        "          \"July\", \"August\",\n",
        "          \"September\", \"October\",\n",
        "          \"November\", \"December\"]\n",
        "months.reverse()\n",
        "print(months)\n",
        "\n",
        "#OR:\n",
        "#months = [\"January\", \"February\", \"March\", \"April\", \"May\", \"June\", \"July\", \"August\", \"September\", \"October\",\"November\", \"December\"]\n",
        "#print(\"Months in reverse: \" , meses [::-1])"
      ],
      "metadata": {
        "colab": {
          "base_uri": "https://localhost:8080/"
        },
        "id": "3BqKT2sNxr5V",
        "outputId": "f6b01c39-8035-4478-c071-1e0df7cb8898"
      },
      "execution_count": 60,
      "outputs": [
        {
          "output_type": "stream",
          "name": "stdout",
          "text": [
            "['December', 'November', 'October', 'September', 'August', 'July', 'June', 'May', 'April', 'March', 'February', 'January']\n"
          ]
        }
      ]
    },
    {
      "cell_type": "code",
      "source": [
        "# d: SEASONS LIST[]\n",
        "spring= months[2:5]\n",
        "summer= months[5:8]\n",
        "autumn= months[8:11]\n",
        "winter = [months[11]]\n",
        "winter += months[0:2]\n",
        "print(spring)\n",
        "print(summer)\n",
        "print(autumn)\n",
        "print(winter)\n",
        "\n",
        "#OR:\n",
        "#spring = [\"March\", \"April\", \"May\"]\n",
        "#summer = [\"June\", \"July\", \"August\"]\n",
        "#autumn = [\"September\", \"October\", \"November\"]\n",
        "#winter = [\"December\", \"January\", \"February\"]\n",
        "#print(spring)\n",
        "#print(summer)\n",
        "#print(autumn)\n",
        "#print(winter)"
      ],
      "metadata": {
        "colab": {
          "base_uri": "https://localhost:8080/"
        },
        "id": "Kh6J55zMxtPP",
        "outputId": "9562cc63-607f-45ce-8687-3e3b89666ab8"
      },
      "execution_count": 61,
      "outputs": [
        {
          "output_type": "stream",
          "name": "stdout",
          "text": [
            "['October', 'September', 'August']\n",
            "['July', 'June', 'May']\n",
            "['April', 'March', 'February']\n",
            "['January', 'December', 'November']\n"
          ]
        }
      ]
    },
    {
      "cell_type": "code",
      "source": [
        "# e: CHOOSE A MONTH\n",
        "month = months[5]\n",
        "print(\"El mes del año que más me gusta es\", month)\n",
        "\n",
        "#or\n",
        "month = months[5]\n",
        "print(\"El mes del año que más me gusta es %\" %(month))"
      ],
      "metadata": {
        "colab": {
          "base_uri": "https://localhost:8080/"
        },
        "id": "42HMM9rtxu1H",
        "outputId": "6dc95af5-a13f-4f27-f20e-8d65eb6c42c4"
      },
      "execution_count": 64,
      "outputs": [
        {
          "output_type": "stream",
          "name": "stdout",
          "text": [
            "El mes del año que más me gusta es July\n"
          ]
        }
      ]
    },
    {
      "cell_type": "code",
      "source": [
        "# f: USER INPUT\n",
        "user = input(\"Please enter a month: \")\n",
        "\n",
        "if user  == \"January\":\n",
        "  print(\"El mes del año que más me gusta es Enero\")\n",
        "elif user  == \"February\":\n",
        "  print(\"El mes del año que más me gusta es Febrero\")\n",
        "elif user  == \"March\":\n",
        "  print(\"El mes del año que más me gusta es Marzo\")\n",
        "elif user  == \"April\":\n",
        "  print(\"El mes del año que más me gusta es Abril\")\n",
        "elif user  == \"May\":\n",
        "  print(\"El mes del año que más me gusta es Mayo\")\n",
        "elif user  == \"June\":\n",
        "  print(\"El mes del año que más me gusta es Junio\")\n",
        "elif user  == \"July\":\n",
        "  print(\"El mes del año que más me gusta es Julio\")\n",
        "elif user  == \"August\":\n",
        "  print(\"El mes del año que más me gusta es Agosto\")\n",
        "elif user  == \"September\":\n",
        "  print(\"El mes del año que más me gusta es Septiembre\")\n",
        "elif user  == \"October\":\n",
        "  print(\"El mes del año que más me gusta es Octubre\")\n",
        "elif user  == \"November\":\n",
        "  print(\"El mes del año que más me gusta es Noviembre\")\n",
        "else:\n",
        "  print(\"It's Christmas!\")\n",
        "\n",
        "# or\n",
        "print()"
      ],
      "metadata": {
        "colab": {
          "base_uri": "https://localhost:8080/"
        },
        "id": "y7wTwFgXxw1X",
        "outputId": "040d0bf4-9350-4ae5-fbaa-854b5e88a80e"
      },
      "execution_count": 10,
      "outputs": [
        {
          "output_type": "stream",
          "name": "stdout",
          "text": [
            "Please enter a month: November\n",
            "El mes del año que más me gusta es Noviembre\n"
          ]
        }
      ]
    },
    {
      "cell_type": "markdown",
      "metadata": {
        "id": "vH5tb3ry7M6U"
      },
      "source": [
        "### Ejercicio 3\n",
        "\n",
        "\n",
        "Escribe un programa que, dado un string `dia` que haga referencia a un día de la semana, imprima si el contenido de este string es un día del fin de semana. Por ejemplo, si `dia` es `lunes`, debería mostrar por pantalla una cadena de caracteres con el siguiente formato:\n",
        "\n",
        "```El lunes es fin de semana? : False.```\n",
        "\n",
        "**Nota 1** : Para resolver este ejercicio podéis buscar información en *Stackoverflow*: https://stackoverflow.com/questions/10406130/check-if-something-is-not-in-a-list-in-python/10406143\n",
        "\n",
        "**Nota 2**: Podemos suponer que el dia introducido siempre está en minúscula.\n"
      ]
    },
    {
      "cell_type": "code",
      "source": [
        "day = \"Monday\"\n",
        "weekend = [\"Saturday\", \"Sunday\"]\n",
        "\n",
        "answer = day not in weekend\n",
        "print(f\"El {day} es fin de semana? : {answer}.\")\n",
        "\n",
        "# OR\n",
        "#day = \"Monday\"\n",
        "#weekend = [\"Saturday\", \"Sunday\"]\n",
        "#print(\"El {0} es din de semana:{1}\". format(day, answer))"
      ],
      "metadata": {
        "id": "SQCrf3KxrJa3",
        "colab": {
          "base_uri": "https://localhost:8080/"
        },
        "outputId": "b60f12d8-bd8a-48fd-ea4a-746544f58966"
      },
      "execution_count": 65,
      "outputs": [
        {
          "output_type": "stream",
          "name": "stdout",
          "text": [
            "El Monday es fin de semana? : True.\n"
          ]
        }
      ]
    },
    {
      "cell_type": "markdown",
      "source": [
        "### Ejercicio 4\n",
        "\n",
        "Nos gusta mucho la UFC, por eso hemos decidido guardar la información del top5 de luchadores de peso pluma (*feather weight*), con su respectiva posición.\n",
        "\n",
        "a) Escoge el tipo de variable de python más adecuada para esta tarea y llena la variable con la información.\n",
        "\n",
        "b) Por motivos antidopping, se nos pide eliminar el campeón. Haz esta modificación.  \n",
        "\n",
        "c) Como hemos quitado un luchador, añade el luchador número 5 al ranking para tener el nuevo top5."
      ],
      "metadata": {
        "id": "PS39MA0F7Cw-"
      }
    },
    {
      "cell_type": "markdown",
      "source": [
        "**Nota**: Podéis usar la siguiente tabla de posiciones:\n",
        "\n",
        "|Posición\t|Nombre\t |\n",
        "| :- | :-: |\n",
        "|C\t|Alexander Volkanovski|\n",
        "|1\t|Max Holloway|\n",
        "|2\t|Yair Rodriguez|\n",
        "|3\t|Brian Ortega|\n",
        "|4\t|Arnold Allen|\n",
        "|5\t|Ilia Topuria|"
      ],
      "metadata": {
        "id": "XmbjLd2v-HJ7"
      }
    },
    {
      "cell_type": "code",
      "source": [
        "# Respuesta\n",
        "UFC = {\"C\": \"Alexander Volkanovski\", \"1\": \"Max Holloway\", \"2\": \"Yair Rodriguez\", \"3\": \"Brian Ortega\", \"4\": \"Arnold Allen\", \"5\": \"Ilia Topuria\"}\n",
        "print(UFC)"
      ],
      "metadata": {
        "id": "2yFBg-R9rMTX",
        "colab": {
          "base_uri": "https://localhost:8080/"
        },
        "outputId": "64a78c88-478e-4936-bd3d-4283c5e75062"
      },
      "execution_count": 67,
      "outputs": [
        {
          "output_type": "stream",
          "name": "stdout",
          "text": [
            "{'C': 'Alexander Volkanovski', '1': 'Max Holloway', '2': 'Yair Rodriguez', '3': 'Brian Ortega', '4': 'Arnold Allen', '5': 'Ilia Topuria'}\n"
          ]
        }
      ]
    },
    {
      "cell_type": "code",
      "source": [
        "# b: USE POP\n",
        "UFC.pop(\"C\")"
      ],
      "metadata": {
        "colab": {
          "base_uri": "https://localhost:8080/",
          "height": 35
        },
        "id": "W6ywrI4qDsgu",
        "outputId": "2db85db0-6ce5-4195-d7d2-753d0872d552"
      },
      "execution_count": 68,
      "outputs": [
        {
          "output_type": "execute_result",
          "data": {
            "text/plain": [
              "'Alexander Volkanovski'"
            ],
            "application/vnd.google.colaboratory.intrinsic+json": {
              "type": "string"
            }
          },
          "metadata": {},
          "execution_count": 68
        }
      ]
    },
    {
      "cell_type": "code",
      "source": [
        "# c: APPEND\n",
        "UFC.append(\"Illia Topuria\")\n",
        "print(UFC)\n",
        "\n",
        "# OR:\n",
        "#UFC[\"5\"] = \"Illia Topuria\"\n",
        "#print(UFC)"
      ],
      "metadata": {
        "colab": {
          "base_uri": "https://localhost:8080/",
          "height": 216
        },
        "id": "YbmLPM-4UXys",
        "outputId": "342a2de0-8395-49f2-cabf-98b14e3c61a8"
      },
      "execution_count": 70,
      "outputs": [
        {
          "output_type": "error",
          "ename": "AttributeError",
          "evalue": "'dict' object has no attribute 'append'",
          "traceback": [
            "\u001b[0;31m---------------------------------------------------------------------------\u001b[0m",
            "\u001b[0;31mAttributeError\u001b[0m                            Traceback (most recent call last)",
            "\u001b[0;32m<ipython-input-70-1919beb39248>\u001b[0m in \u001b[0;36m<cell line: 2>\u001b[0;34m()\u001b[0m\n\u001b[1;32m      1\u001b[0m \u001b[0;31m# c: APPEND\u001b[0m\u001b[0;34m\u001b[0m\u001b[0;34m\u001b[0m\u001b[0m\n\u001b[0;32m----> 2\u001b[0;31m \u001b[0mUFC\u001b[0m\u001b[0;34m.\u001b[0m\u001b[0mappend\u001b[0m\u001b[0;34m(\u001b[0m\u001b[0;34m\"Illia Topuria\"\u001b[0m\u001b[0;34m)\u001b[0m\u001b[0;34m\u001b[0m\u001b[0;34m\u001b[0m\u001b[0m\n\u001b[0m\u001b[1;32m      3\u001b[0m \u001b[0mprint\u001b[0m\u001b[0;34m(\u001b[0m\u001b[0mUFC\u001b[0m\u001b[0;34m)\u001b[0m\u001b[0;34m\u001b[0m\u001b[0;34m\u001b[0m\u001b[0m\n\u001b[1;32m      4\u001b[0m \u001b[0;34m\u001b[0m\u001b[0m\n\u001b[1;32m      5\u001b[0m \u001b[0;31m# OR:\u001b[0m\u001b[0;34m\u001b[0m\u001b[0;34m\u001b[0m\u001b[0m\n",
            "\u001b[0;31mAttributeError\u001b[0m: 'dict' object has no attribute 'append'"
          ]
        }
      ]
    },
    {
      "cell_type": "code",
      "source": [
        "[key for key, value in UFC.items() if value == \"Illia Topuria\"]\n",
        "[5]"
      ],
      "metadata": {
        "id": "Ls7OYb2jU4DS"
      },
      "execution_count": null,
      "outputs": []
    },
    {
      "cell_type": "markdown",
      "source": [
        "### Ejercicio 5\n",
        "\n",
        "A partir de la lista numeros = [1, 2, 3, 4, 5]:\n",
        "\n",
        "a) Duplica el valor del último elemento de la lista y muestra la lista modificada por pantalla.\n",
        "\n",
        "b) Crea una tupla a partir de la lista anterior.\n",
        "\n",
        "c) Duplica el valor del primer elemento de la tupla y muestra la tupla modificada por pantalla.\n",
        "\n",
        "\n",
        "¿Qué ocurre con la tupla? ¿Por qué? Razona la respuesta."
      ],
      "metadata": {
        "id": "rv_oHT93xjVT"
      }
    },
    {
      "cell_type": "code",
      "source": [
        "# a: DUPLICATE THE LAST ELEMENT OF THE LIST\n",
        "numeros = [1, 2, 3, 4, 5]\n",
        "numeros [-1]= numeros[-1]*2\n",
        "print(numeros)\n",
        "\n",
        "# or:\n",
        "#numeros = [1, 2, 3, 4, 5]\n",
        "#numeros [4]= numeros[4]*2\n",
        "#print(numeros)\n",
        "# > [1, 2, 3, 4, 10]\n"
      ],
      "metadata": {
        "id": "g0NB6gX6xjw4",
        "colab": {
          "base_uri": "https://localhost:8080/"
        },
        "outputId": "a1d9c8a3-f0c5-466d-f5de-94bb729f99d7"
      },
      "execution_count": 47,
      "outputs": [
        {
          "output_type": "stream",
          "name": "stdout",
          "text": [
            "[1, 2, 3, 4, 10]\n"
          ]
        }
      ]
    },
    {
      "cell_type": "code",
      "source": [
        "# b: CREATE A TUPLE FROM THE LAST LIST\n",
        "numeros = [1, 2, 3, 4, 5]\n",
        "numeros_tuple = tuple(numeros)\n",
        "\n",
        "print(numeros_tuple)\n",
        "print(type(numeros_tuple))"
      ],
      "metadata": {
        "colab": {
          "base_uri": "https://localhost:8080/"
        },
        "id": "a5g65QukKdfl",
        "outputId": "5b39e300-16c0-4c31-afc9-959c8ab94dd6"
      },
      "execution_count": 41,
      "outputs": [
        {
          "output_type": "stream",
          "name": "stdout",
          "text": [
            "(1, 2, 3, 4, 5)\n",
            "<class 'tuple'>\n"
          ]
        }
      ]
    },
    {
      "cell_type": "code",
      "source": [
        "# b.02: CREATE A TUPLE FROM THE LAST LIST THAT WAS DUPLICATED\n",
        "numeros= [1, 2, 3, 4, 10]\n",
        "numeros_tuple = tuple(numeros)\n",
        "\n",
        "print(numeros_tuple)\n",
        "print(type(numeros_tuple))"
      ],
      "metadata": {
        "colab": {
          "base_uri": "https://localhost:8080/"
        },
        "id": "TAOFA7qgAlRI",
        "outputId": "7c1ed578-8518-4abb-f633-a9c8e5dece08"
      },
      "execution_count": 43,
      "outputs": [
        {
          "output_type": "stream",
          "name": "stdout",
          "text": [
            "(1, 2, 3, 4, 10)\n",
            "<class 'tuple'>\n"
          ]
        }
      ]
    },
    {
      "cell_type": "code",
      "source": [
        "# c: DUPLICATE THE FIRST ELEMENT OF THE\n",
        "numeros = [1, 2, 3, 4, 5]\n",
        "numeros [0]= numeros[0]*2\n",
        "numeros_tuple = tuple(numeros)\n",
        "\n",
        "print(numeros_tuple)\n",
        "print(type(numeros_tuple))\n",
        "#> (2, 2, 3, 4, 5)\n",
        "\n",
        "\n",
        "# or:\n",
        "#numeros = [1, 2, 3, 4, 5]\n",
        "#numeros [-4]= numeros[-4]*2\n",
        "#numeros_tuple = tuple(numeros)\n",
        "\n",
        "#print(numeros_tuple)\n",
        "#print(type(numeros_tuple))\n",
        "#> (1, 4, 3, 4, 5)\n"
      ],
      "metadata": {
        "colab": {
          "base_uri": "https://localhost:8080/"
        },
        "id": "GsE6SPxwAmpT",
        "outputId": "195f70ff-167f-4cf7-9989-b89e45f0f89a"
      },
      "execution_count": 50,
      "outputs": [
        {
          "output_type": "stream",
          "name": "stdout",
          "text": [
            "(2, 2, 3, 4, 5)\n",
            "<class 'tuple'>\n"
          ]
        }
      ]
    },
    {
      "cell_type": "code",
      "source": [
        "# c.02: CREATE A TUPLE FROM THE LAST LIST THAT WAS DUPLICATED\n",
        "numeros= [1, 2, 3, 4, 10]\n",
        "numeros [0]= numeros[0]*2\n",
        "numeros_tuple = tuple(numeros)\n",
        "\n",
        "print(numeros_tuple)\n",
        "print(type(numeros_tuple))\n",
        "#> (2, 2, 3, 4, 10)\n",
        "\n",
        "#or:\n",
        "#numeros= [1, 2, 3, 4, 10]\n",
        "#numeros [-4]= numeros[-4]*2\n",
        "#numeros_tuple = tuple(numeros)\n",
        "\n",
        "#print(numeros_tuple)\n",
        "#print(type(numeros_tuple))\n",
        "#> (1, 4, 3, 4, 10)"
      ],
      "metadata": {
        "colab": {
          "base_uri": "https://localhost:8080/"
        },
        "outputId": "2bcaee99-d329-45a6-e58f-69781ad59d29",
        "id": "Zx5emqxkL5dw"
      },
      "execution_count": 52,
      "outputs": [
        {
          "output_type": "stream",
          "name": "stdout",
          "text": [
            "(2, 2, 3, 4, 10)\n",
            "<class 'tuple'>\n"
          ]
        }
      ]
    },
    {
      "cell_type": "markdown",
      "source": [
        "¿Qué ocurre con la tupla? ¿Por qué? Razona la respuesta:\n",
        "Tuples are inmmutable"
      ],
      "metadata": {
        "id": "p6catRaqAq5a"
      }
    },
    {
      "cell_type": "markdown",
      "source": [
        "## Ejercicio 6\n",
        "\n",
        "El código que se presenta a continuación no funciona. Corrige los errores y explica por qué suceden."
      ],
      "metadata": {
        "id": "MpzV64WV4c88"
      }
    },
    {
      "cell_type": "code",
      "source": [
        "class = \"Introducción a Python\"\n",
        "\n",
        "n_sesiones = 6\n",
        "\n",
        "h_sesion = \"3\"\n",
        "\n",
        "horas_total = n_sesiones*h_sesion\n",
        "\n",
        "print(f\"{class} tiene {n_sesiones} sesiones de {h_sesion} horas, que son un total de {horas_total} horas.\")"
      ],
      "metadata": {
        "id": "iM7UikY54daT",
        "colab": {
          "base_uri": "https://localhost:8080/",
          "height": 108
        },
        "outputId": "54a4e060-f1cb-4dee-8c5f-46db450672da"
      },
      "execution_count": 21,
      "outputs": [
        {
          "output_type": "error",
          "ename": "SyntaxError",
          "evalue": "invalid syntax (<ipython-input-21-e6bbfe16e3b2>, line 1)",
          "traceback": [
            "\u001b[0;36m  File \u001b[0;32m\"<ipython-input-21-e6bbfe16e3b2>\"\u001b[0;36m, line \u001b[0;32m1\u001b[0m\n\u001b[0;31m    class = (\"Introducción a Python\"):\u001b[0m\n\u001b[0m          ^\u001b[0m\n\u001b[0;31mSyntaxError\u001b[0m\u001b[0;31m:\u001b[0m invalid syntax\n"
          ]
        }
      ]
    },
    {
      "cell_type": "markdown",
      "source": [
        "class = \"Introducción a Python\" -> The issue here is you cannot name a varible that is named ***class***\n",
        "\n",
        "n_sesiones = 6 -> It's an **int**\n",
        "\n",
        "h_sesion = \"3\" -> It's an **string**\n",
        "\n",
        "horas_total = n_sesiones*h_sesion -> For some reason we are trying to multiply an INT with a STRING. First we need to convert it to a int.\n",
        "\n",
        "print(f\"{class} tiene {n_sesiones} sesiones de {h_sesion} horas, que son un total de {horas_total} horas.\") -> Using f strings"
      ],
      "metadata": {
        "id": "zxWF5bmP3TaM"
      }
    },
    {
      "cell_type": "code",
      "source": [
        "# CORRECT CODE:\n",
        "name_class = \"Introducción a Python\"\n",
        "\n",
        "n_sesiones = 6\n",
        "\n",
        "h_sesion = \"3\"\n",
        "\n",
        "horas_total = n_sesiones*int(h_sesion)\n",
        "\n",
        "print(f\"{name_class} tiene {n_sesiones} sesiones de int({h_sesion}) horas, que son un total de {horas_total} horas.\")"
      ],
      "metadata": {
        "id": "qlSIcisn4ipY",
        "colab": {
          "base_uri": "https://localhost:8080/"
        },
        "outputId": "aaee3245-189a-4f3d-e388-67c2e5cd16af"
      },
      "execution_count": 71,
      "outputs": [
        {
          "output_type": "stream",
          "name": "stdout",
          "text": [
            "Introducción a Python tiene 6 sesiones de int(3) horas, que son un total de 18 horas.\n"
          ]
        }
      ]
    }
  ],
  "metadata": {
    "kernelspec": {
      "display_name": "Python 3",
      "language": "python",
      "name": "python3"
    },
    "language_info": {
      "codemirror_mode": {
        "name": "ipython",
        "version": 3
      },
      "file_extension": ".py",
      "mimetype": "text/x-python",
      "name": "python",
      "nbconvert_exporter": "python",
      "pygments_lexer": "ipython3",
      "version": "3.7.6"
    },
    "colab": {
      "provenance": []
    }
  },
  "nbformat": 4,
  "nbformat_minor": 0
}